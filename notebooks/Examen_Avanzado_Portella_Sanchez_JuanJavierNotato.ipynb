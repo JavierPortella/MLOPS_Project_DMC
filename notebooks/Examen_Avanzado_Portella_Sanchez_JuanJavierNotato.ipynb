{
 "cells": [
  {
   "cell_type": "markdown",
   "metadata": {},
   "source": [
    "<center><img src=\"https://media-exp1.licdn.com/dms/image/C4E22AQEbIXZiRVkJPQ/feedshare-shrink_2048_1536/0?e=1591228800&v=beta&t=4uXLGuPLZdw16VZmiqkPdu57s6oSUWT-advRTvwzp5Q\" width=\"1000\"></center>"
   ]
  },
  {
   "cell_type": "markdown",
   "metadata": {},
   "source": [
    "# SDC Certified Program in Python for Data Science\n",
    "\n",
    "## Evaluación nivel avanzado\n",
    "\n",
    "**Materiales para utilizar:** Está permitido el uso de apuntes. Debe usar Python para resolver los ejercicios planteados (incluir el código y programas usados para resolver las preguntas).<br>\n",
    "**Formato:** el archivo notebook de Jupyter y el pdf debe ser guardado con su apellido paterno y materno sin espacios.<br>\n",
    "**Asunto:**  Examen_Avanzado_ApellidoPaterno_ApellidoMaterno_Nombres<br>\n",
    "**Puntaje:** Total: 20 puntos<br>\n",
    "\n",
    "Link de la data: https://www.dropbox.com/sh/3s7j40jia09t09b/AABifaGQHpQHw4mM55tW9gpja?dl=0"
   ]
  },
  {
   "cell_type": "markdown",
   "metadata": {},
   "source": [
    "## Información del conjunto de datos"
   ]
  },
  {
   "cell_type": "markdown",
   "metadata": {},
   "source": [
    "Hay una falta de conjuntos de datos públicos disponibles sobre servicios financieros y especialmente en el dominio emergente de transacciones de dinero móvil. Los conjuntos de datos financieros son importantes para muchos investigadores y, en particular, para nosotros que realizamos investigaciones en el ámbito de la detección de fraudes. Parte del problema es la naturaleza intrínsecamente privada de las transacciones financieras, que no lleva a conjuntos de datos disponibles públicamente.\n",
    "\n",
    "Presentamos un conjunto de datos sintéticos generado utilizando el simulador llamado PaySim como un enfoque para tal problema. PaySim utiliza datos agregados del conjunto de datos privado para generar un conjunto de datos sintético que se asemeja al funcionamiento normal de las transacciones e inyecta un comportamiento malicioso para luego evaluar el rendimiento de los métodos de detección de fraude."
   ]
  },
  {
   "cell_type": "markdown",
   "metadata": {},
   "source": [
    "## Información de los atributos:"
   ]
  },
  {
   "cell_type": "markdown",
   "metadata": {},
   "source": [
    "Variables de entrada :\n",
    "\n",
    "1. steep(tipo) - EFECTIVO, EFECTIVO, DÉBITO, PAGO y TRANSFERENCIA.\n",
    "\n",
    "2. amount(cantidad) -monto de la transacción en moneda local.\n",
    "\n",
    "3. nameOrig: cliente que inició la transacción\n",
    "\n",
    "4. oldbalanceOrg - saldo inicial antes de la transacción\n",
    "\n",
    "5. newbalanceOrig - nuevo saldo después de la transacción\n",
    "\n",
    "6. nameDest - cliente que es el destinatario de la transacción\n",
    "\n",
    "7. oldbalanceDest: destinatario del saldo inicial antes de la transacción. Tenga en cuenta que no hay información para los clientes que comienzan con M (Comerciantes).\n",
    "\n",
    "8. newbalanceDest: nuevo destinatario del saldo después de la transacción. Tenga en cuenta que no hay información para los clientes que comienzan con M (Comerciantes).\n",
    "\n",
    "\n",
    "9. isFlaggedFraud: el modelo de negocio tiene como objetivo controlar transferencias masivas de una cuenta a otra y señala intentos ilegales. Un intento ilegal en este conjunto de datos es un intento de transferir más de 200,000 en una sola transacción.\n",
    "\n",
    "Variable de salida:\n",
    "\n",
    "10. isFraud: son las transacciones realizadas por los agentes fraudulentos dentro de la simulación. En este conjunto de datos específico, el comportamiento fraudulento de los agentes apunta a obtener ganancias tomando el control de las cuentas de los clientes e intentando vaciar los fondos transfiriéndolos a otra cuenta y luego retirando del sistema.\n"
   ]
  },
  {
   "cell_type": "markdown",
   "metadata": {
    "tags": []
   },
   "source": [
    "#### **0. Pasos previos.**"
   ]
  },
  {
   "cell_type": "markdown",
   "metadata": {
    "tags": []
   },
   "source": [
    "##### Importando librerías necesarias"
   ]
  },
  {
   "cell_type": "code",
   "execution_count": 1,
   "metadata": {
    "execution": {
     "iopub.execute_input": "2021-09-23T05:04:18.796748Z",
     "iopub.status.busy": "2021-09-23T05:04:18.796748Z",
     "iopub.status.idle": "2021-09-23T05:04:44.410657Z",
     "shell.execute_reply": "2021-09-23T05:04:44.410657Z",
     "shell.execute_reply.started": "2021-09-23T05:04:18.796748Z"
    },
    "tags": []
   },
   "outputs": [],
   "source": [
    "import os\n",
    "\n",
    "import h2o\n",
    "import matplotlib.pyplot as plt\n",
    "import model_evaluation_utils as meu\n",
    "import numpy as np\n",
    "import pandas as pd\n",
    "import seaborn as sns\n",
    "import statsmodels as sm\n",
    "from graphviz import Source\n",
    "from h2o.estimators.deeplearning import H2ODeepLearningEstimator\n",
    "from imblearn.under_sampling import NearMiss\n",
    "from joblib import dump\n",
    "from sklearn import metrics\n",
    "from sklearn.ensemble import RandomForestClassifier\n",
    "from sklearn.metrics import auc, classification_report, roc_auc_score, roc_curve\n",
    "from sklearn.model_selection import cross_val_score, train_test_split\n",
    "from sklearn.naive_bayes import GaussianNB\n",
    "from sklearn.neural_network import MLPClassifier\n",
    "from sklearn.preprocessing import StandardScaler\n",
    "from sklearn.tree import DecisionTreeClassifier, export_graphviz"
   ]
  },
  {
   "cell_type": "markdown",
   "metadata": {
    "tags": []
   },
   "source": [
    "##### Establecer directorio de trabajo"
   ]
  },
  {
   "cell_type": "code",
   "execution_count": 2,
   "metadata": {
    "execution": {
     "iopub.execute_input": "2021-09-23T05:04:44.412656Z",
     "iopub.status.busy": "2021-09-23T05:04:44.411656Z",
     "iopub.status.idle": "2021-09-23T05:04:44.427646Z",
     "shell.execute_reply": "2021-09-23T05:04:44.426647Z",
     "shell.execute_reply.started": "2021-09-23T05:04:44.412656Z"
    },
    "tags": []
   },
   "outputs": [],
   "source": [
    "os.chdir(\"./Data\")"
   ]
  },
  {
   "cell_type": "markdown",
   "metadata": {
    "tags": []
   },
   "source": [
    "##### Leer el archivo de trabajo"
   ]
  },
  {
   "cell_type": "code",
   "execution_count": 3,
   "metadata": {
    "execution": {
     "iopub.execute_input": "2021-09-23T05:04:44.428646Z",
     "iopub.status.busy": "2021-09-23T05:04:44.428646Z",
     "iopub.status.idle": "2021-09-23T05:05:18.911807Z",
     "shell.execute_reply": "2021-09-23T05:05:18.910809Z",
     "shell.execute_reply.started": "2021-09-23T05:04:44.428646Z"
    },
    "tags": []
   },
   "outputs": [
    {
     "name": "stdout",
     "output_type": "stream",
     "text": [
      "<class 'pandas.core.frame.DataFrame'>\n",
      "RangeIndex: 6362620 entries, 0 to 6362619\n",
      "Data columns (total 11 columns):\n",
      " #   Column          Dtype  \n",
      "---  ------          -----  \n",
      " 0   step            int64  \n",
      " 1   type            object \n",
      " 2   amount          float64\n",
      " 3   nameOrig        object \n",
      " 4   oldbalanceOrg   float64\n",
      " 5   newbalanceOrig  float64\n",
      " 6   nameDest        object \n",
      " 7   oldbalanceDest  float64\n",
      " 8   newbalanceDest  float64\n",
      " 9   isFraud         int64  \n",
      " 10  isFlaggedFraud  int64  \n",
      "dtypes: float64(5), int64(3), object(3)\n",
      "memory usage: 534.0+ MB\n"
     ]
    }
   ],
   "source": [
    "bank = pd.read_csv(\"PS_20174392719_1491204439457_log.csv\")\n",
    "bank.info()"
   ]
  },
  {
   "cell_type": "markdown",
   "metadata": {
    "tags": []
   },
   "source": [
    "##### Comprobar el porcentaje de valores nulos en el dataframe"
   ]
  },
  {
   "cell_type": "code",
   "execution_count": 4,
   "metadata": {
    "execution": {
     "iopub.execute_input": "2021-09-23T05:05:18.916803Z",
     "iopub.status.busy": "2021-09-23T05:05:18.916803Z",
     "iopub.status.idle": "2021-09-23T05:05:20.026101Z",
     "shell.execute_reply": "2021-09-23T05:05:20.025101Z",
     "shell.execute_reply.started": "2021-09-23T05:05:18.916803Z"
    }
   },
   "outputs": [
    {
     "data": {
      "text/plain": [
       "step              0.0\n",
       "type              0.0\n",
       "amount            0.0\n",
       "nameOrig          0.0\n",
       "oldbalanceOrg     0.0\n",
       "newbalanceOrig    0.0\n",
       "nameDest          0.0\n",
       "oldbalanceDest    0.0\n",
       "newbalanceDest    0.0\n",
       "isFraud           0.0\n",
       "isFlaggedFraud    0.0\n",
       "dtype: float64"
      ]
     },
     "execution_count": 4,
     "metadata": {},
     "output_type": "execute_result"
    }
   ],
   "source": [
    "bank.isnull().sum() * 100 / len(bank)"
   ]
  },
  {
   "cell_type": "code",
   "execution_count": 5,
   "metadata": {
    "execution": {
     "iopub.execute_input": "2021-09-23T05:05:20.027100Z",
     "iopub.status.busy": "2021-09-23T05:05:20.027100Z",
     "iopub.status.idle": "2021-09-23T05:05:20.151023Z",
     "shell.execute_reply": "2021-09-23T05:05:20.151023Z",
     "shell.execute_reply.started": "2021-09-23T05:05:20.027100Z"
    }
   },
   "outputs": [
    {
     "data": {
      "text/html": [
       "<div>\n",
       "<style scoped>\n",
       "    .dataframe tbody tr th:only-of-type {\n",
       "        vertical-align: middle;\n",
       "    }\n",
       "\n",
       "    .dataframe tbody tr th {\n",
       "        vertical-align: top;\n",
       "    }\n",
       "\n",
       "    .dataframe thead th {\n",
       "        text-align: right;\n",
       "    }\n",
       "</style>\n",
       "<table border=\"1\" class=\"dataframe\">\n",
       "  <thead>\n",
       "    <tr style=\"text-align: right;\">\n",
       "      <th></th>\n",
       "      <th>step</th>\n",
       "      <th>type</th>\n",
       "      <th>amount</th>\n",
       "      <th>nameOrig</th>\n",
       "      <th>oldbalanceOrg</th>\n",
       "      <th>newbalanceOrig</th>\n",
       "      <th>nameDest</th>\n",
       "      <th>oldbalanceDest</th>\n",
       "      <th>newbalanceDest</th>\n",
       "      <th>isFraud</th>\n",
       "      <th>isFlaggedFraud</th>\n",
       "    </tr>\n",
       "  </thead>\n",
       "  <tbody>\n",
       "    <tr>\n",
       "      <th>0</th>\n",
       "      <td>1</td>\n",
       "      <td>PAYMENT</td>\n",
       "      <td>9839.64</td>\n",
       "      <td>C1231006815</td>\n",
       "      <td>170136.0</td>\n",
       "      <td>160296.36</td>\n",
       "      <td>M1979787155</td>\n",
       "      <td>0.0</td>\n",
       "      <td>0.0</td>\n",
       "      <td>0</td>\n",
       "      <td>0</td>\n",
       "    </tr>\n",
       "    <tr>\n",
       "      <th>1</th>\n",
       "      <td>1</td>\n",
       "      <td>PAYMENT</td>\n",
       "      <td>1864.28</td>\n",
       "      <td>C1666544295</td>\n",
       "      <td>21249.0</td>\n",
       "      <td>19384.72</td>\n",
       "      <td>M2044282225</td>\n",
       "      <td>0.0</td>\n",
       "      <td>0.0</td>\n",
       "      <td>0</td>\n",
       "      <td>0</td>\n",
       "    </tr>\n",
       "    <tr>\n",
       "      <th>2</th>\n",
       "      <td>1</td>\n",
       "      <td>TRANSFER</td>\n",
       "      <td>181.00</td>\n",
       "      <td>C1305486145</td>\n",
       "      <td>181.0</td>\n",
       "      <td>0.00</td>\n",
       "      <td>C553264065</td>\n",
       "      <td>0.0</td>\n",
       "      <td>0.0</td>\n",
       "      <td>1</td>\n",
       "      <td>0</td>\n",
       "    </tr>\n",
       "    <tr>\n",
       "      <th>3</th>\n",
       "      <td>1</td>\n",
       "      <td>CASH_OUT</td>\n",
       "      <td>181.00</td>\n",
       "      <td>C840083671</td>\n",
       "      <td>181.0</td>\n",
       "      <td>0.00</td>\n",
       "      <td>C38997010</td>\n",
       "      <td>21182.0</td>\n",
       "      <td>0.0</td>\n",
       "      <td>1</td>\n",
       "      <td>0</td>\n",
       "    </tr>\n",
       "    <tr>\n",
       "      <th>4</th>\n",
       "      <td>1</td>\n",
       "      <td>PAYMENT</td>\n",
       "      <td>11668.14</td>\n",
       "      <td>C2048537720</td>\n",
       "      <td>41554.0</td>\n",
       "      <td>29885.86</td>\n",
       "      <td>M1230701703</td>\n",
       "      <td>0.0</td>\n",
       "      <td>0.0</td>\n",
       "      <td>0</td>\n",
       "      <td>0</td>\n",
       "    </tr>\n",
       "  </tbody>\n",
       "</table>\n",
       "</div>"
      ],
      "text/plain": [
       "   step      type    amount     nameOrig  oldbalanceOrg  newbalanceOrig  \\\n",
       "0     1   PAYMENT   9839.64  C1231006815       170136.0       160296.36   \n",
       "1     1   PAYMENT   1864.28  C1666544295        21249.0        19384.72   \n",
       "2     1  TRANSFER    181.00  C1305486145          181.0            0.00   \n",
       "3     1  CASH_OUT    181.00   C840083671          181.0            0.00   \n",
       "4     1   PAYMENT  11668.14  C2048537720        41554.0        29885.86   \n",
       "\n",
       "      nameDest  oldbalanceDest  newbalanceDest  isFraud  isFlaggedFraud  \n",
       "0  M1979787155             0.0             0.0        0               0  \n",
       "1  M2044282225             0.0             0.0        0               0  \n",
       "2   C553264065             0.0             0.0        1               0  \n",
       "3    C38997010         21182.0             0.0        1               0  \n",
       "4  M1230701703             0.0             0.0        0               0  "
      ]
     },
     "execution_count": 5,
     "metadata": {},
     "output_type": "execute_result"
    }
   ],
   "source": [
    "bank.head()"
   ]
  },
  {
   "cell_type": "markdown",
   "metadata": {
    "tags": []
   },
   "source": [
    "#### **1.\tDividir los datos para el entrenamiento y testeo en una proporción de 70 y 30, respectivamente.**"
   ]
  },
  {
   "cell_type": "markdown",
   "metadata": {
    "tags": []
   },
   "source": [
    "##### Seleccionando columnas a trabajar"
   ]
  },
  {
   "cell_type": "code",
   "execution_count": 6,
   "metadata": {
    "execution": {
     "iopub.execute_input": "2021-09-23T05:05:20.153022Z",
     "iopub.status.busy": "2021-09-23T05:05:20.152030Z",
     "iopub.status.idle": "2021-09-23T05:05:20.167013Z",
     "shell.execute_reply": "2021-09-23T05:05:20.167013Z",
     "shell.execute_reply.started": "2021-09-23T05:05:20.153022Z"
    },
    "tags": []
   },
   "outputs": [],
   "source": [
    "predictores = [\n",
    "    \"amount\",\n",
    "    \"oldbalanceOrg\",\n",
    "    \"newbalanceOrig\",\n",
    "    \"oldbalanceDest\",\n",
    "    \"newbalanceDest\",\n",
    "]\n",
    "target = [\"isFraud\"]"
   ]
  },
  {
   "cell_type": "markdown",
   "metadata": {
    "tags": []
   },
   "source": [
    "##### Particionamiento de la data"
   ]
  },
  {
   "cell_type": "code",
   "execution_count": 7,
   "metadata": {
    "tags": []
   },
   "outputs": [],
   "source": [
    "x = bank[predictores].values\n",
    "y = bank[target].values"
   ]
  },
  {
   "cell_type": "markdown",
   "metadata": {
    "tags": []
   },
   "source": [
    "##### Generamos la data de entrenamiento y testeo"
   ]
  },
  {
   "cell_type": "code",
   "execution_count": 8,
   "metadata": {
    "tags": []
   },
   "outputs": [],
   "source": [
    "xtrain, xtest, ytrain, ytest = train_test_split(\n",
    "    x, y, train_size=0.7, stratify=y, random_state=2020\n",
    ")"
   ]
  },
  {
   "cell_type": "markdown",
   "metadata": {
    "tags": []
   },
   "source": [
    "#### **2.\tAplicar balanceo de datos under-sampling, fijando como parámetro 0.8.**"
   ]
  },
  {
   "cell_type": "markdown",
   "metadata": {
    "tags": []
   },
   "source": [
    "##### Verificando la frecuencia"
   ]
  },
  {
   "cell_type": "code",
   "execution_count": 9,
   "metadata": {
    "tags": []
   },
   "outputs": [
    {
     "data": {
      "text/plain": [
       "0    6354407\n",
       "1       8213\n",
       "Name: isFraud, dtype: int64"
      ]
     },
     "execution_count": 9,
     "metadata": {},
     "output_type": "execute_result"
    }
   ],
   "source": [
    "Class_freq = pd.value_counts(bank[\"isFraud\"], sort=True)\n",
    "Class_freq"
   ]
  },
  {
   "cell_type": "markdown",
   "metadata": {
    "tags": []
   },
   "source": [
    "##### Verificando el porcentaje"
   ]
  },
  {
   "cell_type": "code",
   "execution_count": 10,
   "metadata": {
    "tags": []
   },
   "outputs": [
    {
     "data": {
      "text/plain": [
       "0    99.870918\n",
       "1     0.129082\n",
       "Name: isFraud, dtype: float64"
      ]
     },
     "execution_count": 10,
     "metadata": {},
     "output_type": "execute_result"
    }
   ],
   "source": [
    "Class_freq * 100 / Class_freq.sum()"
   ]
  },
  {
   "cell_type": "markdown",
   "metadata": {
    "tags": []
   },
   "source": [
    "##### Graficando la data resultante"
   ]
  },
  {
   "cell_type": "code",
   "execution_count": 11,
   "metadata": {
    "tags": []
   },
   "outputs": [
    {
     "data": {
      "image/png": "[encoded data removed]",
      "text/plain": [
       "<Figure size 432x288 with 1 Axes>"
      ]
     },
     "metadata": {
      "needs_background": "light"
     },
     "output_type": "display_data"
    }
   ],
   "source": [
    "Class_freq.plot(kind=\"bar\", rot=0)\n",
    "plt.title(\"Desbalanceo de la target\")\n",
    "plt.xlabel(\"Fraude\")\n",
    "plt.ylabel(\"Numero de Observaciones\")\n",
    "plt.show()"
   ]
  },
  {
   "cell_type": "markdown",
   "metadata": {
    "tags": []
   },
   "source": [
    "##### Instanciar un objeto de clase NearMiss"
   ]
  },
  {
   "cell_type": "code",
   "execution_count": 12,
   "metadata": {
    "tags": []
   },
   "outputs": [],
   "source": [
    "unds = NearMiss(sampling_strategy=0.8, n_neighbors=11)"
   ]
  },
  {
   "cell_type": "markdown",
   "metadata": {
    "tags": []
   },
   "source": [
    "##### Balanceando los datos de entrenamiento"
   ]
  },
  {
   "cell_type": "code",
   "execution_count": 13,
   "metadata": {
    "tags": []
   },
   "outputs": [],
   "source": [
    "xtrain_us, ytrain_us = unds.fit_resample(xtrain, ytrain)"
   ]
  },
  {
   "cell_type": "code",
   "execution_count": 14,
   "metadata": {
    "tags": []
   },
   "outputs": [
    {
     "data": {
      "text/html": [
       "<div>\n",
       "<style scoped>\n",
       "    .dataframe tbody tr th:only-of-type {\n",
       "        vertical-align: middle;\n",
       "    }\n",
       "\n",
       "    .dataframe tbody tr th {\n",
       "        vertical-align: top;\n",
       "    }\n",
       "\n",
       "    .dataframe thead th {\n",
       "        text-align: right;\n",
       "    }\n",
       "</style>\n",
       "<table border=\"1\" class=\"dataframe\">\n",
       "  <thead>\n",
       "    <tr style=\"text-align: right;\">\n",
       "      <th></th>\n",
       "      <th>amount</th>\n",
       "      <th>oldbalanceOrg</th>\n",
       "      <th>newbalanceOrig</th>\n",
       "      <th>oldbalanceDest</th>\n",
       "      <th>newbalanceDest</th>\n",
       "      <th>isFraud</th>\n",
       "    </tr>\n",
       "  </thead>\n",
       "  <tbody>\n",
       "    <tr>\n",
       "      <th>0</th>\n",
       "      <td>21673.23</td>\n",
       "      <td>21685.00</td>\n",
       "      <td>11.77</td>\n",
       "      <td>0.0</td>\n",
       "      <td>0.0</td>\n",
       "      <td>0</td>\n",
       "    </tr>\n",
       "    <tr>\n",
       "      <th>1</th>\n",
       "      <td>21628.87</td>\n",
       "      <td>21614.00</td>\n",
       "      <td>0.00</td>\n",
       "      <td>0.0</td>\n",
       "      <td>0.0</td>\n",
       "      <td>0</td>\n",
       "    </tr>\n",
       "    <tr>\n",
       "      <th>2</th>\n",
       "      <td>21792.13</td>\n",
       "      <td>21751.75</td>\n",
       "      <td>0.00</td>\n",
       "      <td>0.0</td>\n",
       "      <td>0.0</td>\n",
       "      <td>0</td>\n",
       "    </tr>\n",
       "    <tr>\n",
       "      <th>3</th>\n",
       "      <td>162.17</td>\n",
       "      <td>168.00</td>\n",
       "      <td>5.83</td>\n",
       "      <td>0.0</td>\n",
       "      <td>0.0</td>\n",
       "      <td>0</td>\n",
       "    </tr>\n",
       "    <tr>\n",
       "      <th>4</th>\n",
       "      <td>176.50</td>\n",
       "      <td>164.00</td>\n",
       "      <td>0.00</td>\n",
       "      <td>0.0</td>\n",
       "      <td>0.0</td>\n",
       "      <td>0</td>\n",
       "    </tr>\n",
       "  </tbody>\n",
       "</table>\n",
       "</div>"
      ],
      "text/plain": [
       "     amount  oldbalanceOrg  newbalanceOrig  oldbalanceDest  newbalanceDest  \\\n",
       "0  21673.23       21685.00           11.77             0.0             0.0   \n",
       "1  21628.87       21614.00            0.00             0.0             0.0   \n",
       "2  21792.13       21751.75            0.00             0.0             0.0   \n",
       "3    162.17         168.00            5.83             0.0             0.0   \n",
       "4    176.50         164.00            0.00             0.0             0.0   \n",
       "\n",
       "   isFraud  \n",
       "0        0  \n",
       "1        0  \n",
       "2        0  \n",
       "3        0  \n",
       "4        0  "
      ]
     },
     "execution_count": 14,
     "metadata": {},
     "output_type": "execute_result"
    }
   ],
   "source": [
    "df_xtrain_us = pd.DataFrame(xtrain_us,columns=predictores)\n",
    "df_ytrain_us = pd.DataFrame(ytrain_us,columns=target)\n",
    "bank_unds_train = pd.concat([df_xtrain_us, df_ytrain_us], axis = 1)\n",
    "bank_unds_train.head()"
   ]
  },
  {
   "cell_type": "markdown",
   "metadata": {
    "tags": []
   },
   "source": [
    "##### Verificando la frecuencia"
   ]
  },
  {
   "cell_type": "code",
   "execution_count": 15,
   "metadata": {
    "tags": []
   },
   "outputs": [
    {
     "data": {
      "text/plain": [
       "0    7186\n",
       "1    5749\n",
       "Name: isFraud, dtype: int64"
      ]
     },
     "execution_count": 15,
     "metadata": {},
     "output_type": "execute_result"
    }
   ],
   "source": [
    "count_classes = pd.value_counts(bank_unds_train[\"isFraud\"], sort=True)\n",
    "count_classes"
   ]
  },
  {
   "cell_type": "markdown",
   "metadata": {
    "tags": []
   },
   "source": [
    "##### Graficando la data resultante"
   ]
  },
  {
   "cell_type": "code",
   "execution_count": 16,
   "metadata": {
    "tags": []
   },
   "outputs": [
    {
     "data": {
      "image/png": "[encoded data removed]",
      "text/plain": [
       "<Figure size 432x288 with 1 Axes>"
      ]
     },
     "metadata": {
      "needs_background": "light"
     },
     "output_type": "display_data"
    }
   ],
   "source": [
    "count_classes.plot(kind=\"bar\", rot=0)\n",
    "plt.title(\"Balanceo de la target por Undersampling\")\n",
    "plt.xlabel(\"Ocurrencia de fraudes\")\n",
    "plt.ylabel(\"Numero de Observaciones\")\n",
    "plt.show()"
   ]
  },
  {
   "cell_type": "markdown",
   "metadata": {
    "tags": []
   },
   "source": [
    "#### **3. Implementar el modelo de árboles de decisión a los datos de entrenamiento.**"
   ]
  },
  {
   "cell_type": "markdown",
   "metadata": {
    "tags": []
   },
   "source": [
    "##### Instanciando una clase DecisionTreeClassifier"
   ]
  },
  {
   "cell_type": "code",
   "execution_count": 17,
   "metadata": {
    "tags": []
   },
   "outputs": [
    {
     "data": {
      "text/html": [
       "<div>\n",
       "<style scoped>\n",
       "    .dataframe tbody tr th:only-of-type {\n",
       "        vertical-align: middle;\n",
       "    }\n",
       "\n",
       "    .dataframe tbody tr th {\n",
       "        vertical-align: top;\n",
       "    }\n",
       "\n",
       "    .dataframe thead th {\n",
       "        text-align: right;\n",
       "    }\n",
       "</style>\n",
       "<table border=\"1\" class=\"dataframe\">\n",
       "  <thead>\n",
       "    <tr style=\"text-align: right;\">\n",
       "      <th></th>\n",
       "      <th>Profundidad</th>\n",
       "      <th>Precision entrenamiento</th>\n",
       "      <th>Precision prueba</th>\n",
       "    </tr>\n",
       "  </thead>\n",
       "  <tbody>\n",
       "    <tr>\n",
       "      <th>0</th>\n",
       "      <td>2</td>\n",
       "      <td>0.991189</td>\n",
       "      <td>0.001296</td>\n",
       "    </tr>\n",
       "    <tr>\n",
       "      <th>1</th>\n",
       "      <td>3</td>\n",
       "      <td>1.000000</td>\n",
       "      <td>0.001492</td>\n",
       "    </tr>\n",
       "    <tr>\n",
       "      <th>2</th>\n",
       "      <td>4</td>\n",
       "      <td>1.000000</td>\n",
       "      <td>0.001460</td>\n",
       "    </tr>\n",
       "    <tr>\n",
       "      <th>3</th>\n",
       "      <td>5</td>\n",
       "      <td>1.000000</td>\n",
       "      <td>0.001460</td>\n",
       "    </tr>\n",
       "    <tr>\n",
       "      <th>4</th>\n",
       "      <td>6</td>\n",
       "      <td>1.000000</td>\n",
       "      <td>0.001460</td>\n",
       "    </tr>\n",
       "    <tr>\n",
       "      <th>5</th>\n",
       "      <td>7</td>\n",
       "      <td>0.999303</td>\n",
       "      <td>0.001462</td>\n",
       "    </tr>\n",
       "    <tr>\n",
       "      <th>6</th>\n",
       "      <td>8</td>\n",
       "      <td>0.999130</td>\n",
       "      <td>0.001463</td>\n",
       "    </tr>\n",
       "    <tr>\n",
       "      <th>7</th>\n",
       "      <td>9</td>\n",
       "      <td>0.999130</td>\n",
       "      <td>0.001463</td>\n",
       "    </tr>\n",
       "  </tbody>\n",
       "</table>\n",
       "</div>"
      ],
      "text/plain": [
       "   Profundidad  Precision entrenamiento  Precision prueba\n",
       "0            2                 0.991189          0.001296\n",
       "1            3                 1.000000          0.001492\n",
       "2            4                 1.000000          0.001460\n",
       "3            5                 1.000000          0.001460\n",
       "4            6                 1.000000          0.001460\n",
       "5            7                 0.999303          0.001462\n",
       "6            8                 0.999130          0.001463\n",
       "7            9                 0.999130          0.001463"
      ]
     },
     "execution_count": 17,
     "metadata": {},
     "output_type": "execute_result"
    }
   ],
   "source": [
    "arboles = []\n",
    "for i in range(2,10):\n",
    "    arbol = {}\n",
    "    treecko = DecisionTreeClassifier(criterion=\"entropy\", min_samples_split=20, max_depth=i, random_state=2020)\n",
    "    treecko.fit(xtrain_us, ytrain_us)\n",
    "    arbol['Profundidad'] = i\n",
    "    arbol['Precision entrenamiento'] = metrics.precision_score(ytrain_us, treecko.predict(xtrain_us))\n",
    "    arbol['Precision prueba'] = metrics.precision_score(ytest, treecko.predict(xtest))\n",
    "    arboles.append(arbol)\n",
    "dataframe = pd.DataFrame(data = arboles)\n",
    "dataframe.head(10)"
   ]
  },
  {
   "cell_type": "code",
   "execution_count": 18,
   "metadata": {
    "tags": []
   },
   "outputs": [],
   "source": [
    "tree = DecisionTreeClassifier(criterion=\"entropy\", min_samples_split=20, max_depth=3, random_state=2020)"
   ]
  },
  {
   "cell_type": "markdown",
   "metadata": {
    "tags": []
   },
   "source": [
    "##### Validación cruzada"
   ]
  },
  {
   "cell_type": "code",
   "execution_count": 19,
   "metadata": {
    "tags": []
   },
   "outputs": [],
   "source": [
    "score_precision = cross_val_score(\n",
    "    estimator=tree, X=xtrain_us, y=ytrain_us, scoring=\"precision\", cv=10\n",
    ")"
   ]
  },
  {
   "cell_type": "code",
   "execution_count": 20,
   "metadata": {
    "tags": []
   },
   "outputs": [
    {
     "data": {
      "text/plain": [
       "array([0.94262295, 1.        , 1.        , 1.        , 1.        ,\n",
       "       0.99823944, 1.        , 0.99825784, 0.94859038, 0.99824869])"
      ]
     },
     "execution_count": 20,
     "metadata": {},
     "output_type": "execute_result"
    }
   ],
   "source": [
    "score_precision"
   ]
  },
  {
   "cell_type": "markdown",
   "metadata": {
    "tags": []
   },
   "source": [
    "##### Gráfico de convergencia"
   ]
  },
  {
   "cell_type": "code",
   "execution_count": 21,
   "metadata": {
    "scrolled": true,
    "tags": []
   },
   "outputs": [
    {
     "data": {
      "image/png": "[encoded data removed]",
      "text/plain": [
       "<Figure size 432x288 with 1 Axes>"
      ]
     },
     "metadata": {
      "needs_background": "light"
     },
     "output_type": "display_data"
    }
   ],
   "source": [
    "plt.plot(range(0, 10), score_precision)\n",
    "plt.ylim([0.9, 1.1])\n",
    "plt.axhline(y=score_precision.mean(), color=\"red\")\n",
    "plt.title(\"Convergencia para la variacion interna\")\n",
    "plt.ylabel(\"Precision Score\")\n",
    "plt.show()"
   ]
  },
  {
   "cell_type": "markdown",
   "metadata": {
    "tags": []
   },
   "source": [
    "##### Validación cruzada"
   ]
  },
  {
   "cell_type": "code",
   "execution_count": 22,
   "metadata": {
    "tags": []
   },
   "outputs": [],
   "source": [
    "score_accuracy = cross_val_score(\n",
    "    estimator=tree, X=xtrain_us, y=ytrain_us, scoring=\"accuracy\", cv=10\n",
    ")"
   ]
  },
  {
   "cell_type": "code",
   "execution_count": 23,
   "metadata": {
    "tags": []
   },
   "outputs": [
    {
     "data": {
      "text/plain": [
       "array([0.97295209, 0.99613601, 0.99690881, 0.99536321, 0.99690881,\n",
       "       0.99381284, 0.99845321, 0.99767981, 0.97370456, 0.99535963])"
      ]
     },
     "execution_count": 23,
     "metadata": {},
     "output_type": "execute_result"
    }
   ],
   "source": [
    "score_accuracy"
   ]
  },
  {
   "cell_type": "markdown",
   "metadata": {
    "tags": []
   },
   "source": [
    "##### Gráfico de convergencia"
   ]
  },
  {
   "cell_type": "code",
   "execution_count": 24,
   "metadata": {
    "tags": []
   },
   "outputs": [
    {
     "data": {
      "image/png": "[encoded data removed]",
      "text/plain": [
       "<Figure size 432x288 with 1 Axes>"
      ]
     },
     "metadata": {
      "needs_background": "light"
     },
     "output_type": "display_data"
    }
   ],
   "source": [
    "plt.plot(range(0, 10), score_accuracy)\n",
    "plt.ylim([0.9, 1.1])\n",
    "plt.axhline(y=score_accuracy.mean(), color=\"red\")\n",
    "plt.title(\"Convergencia para la variacion interna\")\n",
    "plt.ylabel(\"Accuracy Score\")\n",
    "plt.show()"
   ]
  },
  {
   "cell_type": "markdown",
   "metadata": {
    "tags": []
   },
   "source": [
    "##### Entrenar el modelo"
   ]
  },
  {
   "cell_type": "code",
   "execution_count": 25,
   "metadata": {
    "tags": []
   },
   "outputs": [
    {
     "data": {
      "text/plain": [
       "DecisionTreeClassifier(criterion='entropy', max_depth=3, min_samples_split=20,\n",
       "                       random_state=2020)"
      ]
     },
     "execution_count": 25,
     "metadata": {},
     "output_type": "execute_result"
    }
   ],
   "source": [
    "tree.fit(xtrain_us, ytrain_us)"
   ]
  },
  {
   "cell_type": "markdown",
   "metadata": {
    "tags": []
   },
   "source": [
    "##### Graficando el árbol"
   ]
  },
  {
   "cell_type": "code",
   "execution_count": 26,
   "metadata": {
    "tags": []
   },
   "outputs": [],
   "source": [
    "with open(\"bupa_dtree.dot\", \"w\") as dotfile:\n",
    "    export_graphviz(tree, out_file=dotfile, feature_names=predictores)\n",
    "    dotfile.close()"
   ]
  },
  {
   "cell_type": "code",
   "execution_count": 27,
   "metadata": {
    "tags": []
   },
   "outputs": [],
   "source": [
    "file = open(\"bupa_dtree.dot\", \"r\")\n",
    "text = file.read()"
   ]
  },
  {
   "cell_type": "code",
   "execution_count": 28,
   "metadata": {
    "scrolled": true,
    "tags": []
   },
   "outputs": [
    {
     "data": {
      "image/svg+xml": [
       "<?xml version=\"1.0\" encoding=\"UTF-8\" standalone=\"no\"?>\r\n",
       "<!DOCTYPE svg PUBLIC \"-//W3C//DTD SVG 1.1//EN\"\r\n",
       " \"http://www.w3.org/Graphics/SVG/1.1/DTD/svg11.dtd\">\r\n",
       "<!-- Generated by graphviz version 2.38.0 (20140413.2041)\r\n",
       " -->\r\n",
       "<!-- Title: Tree Pages: 1 -->\r\n",
       "<svg width=\"600pt\" height=\"373pt\"\r\n",
       " viewBox=\"0.00 0.00 599.50 373.00\" xmlns=\"http://www.w3.org/2000/svg\" xmlns:xlink=\"http://www.w3.org/1999/xlink\">\r\n",
       "<g id=\"graph0\" class=\"graph\" transform=\"scale(1 1) rotate(0) translate(4 369)\">\r\n",
       "<title>Tree</title>\r\n",
       "<polygon fill=\"white\" stroke=\"none\" points=\"-4,4 -4,-369 595.5,-369 595.5,4 -4,4\"/>\r\n",
       "<!-- 0 -->\r\n",
       "<g id=\"node1\" class=\"node\"><title>0</title>\r\n",
       "<polygon fill=\"none\" stroke=\"black\" points=\"357.5,-365 226.5,-365 226.5,-297 357.5,-297 357.5,-365\"/>\r\n",
       "<text text-anchor=\"middle\" x=\"292\" y=\"-349.8\" font-family=\"Times New Roman,serif\" font-size=\"14.00\">amount &lt;= 399.975</text>\r\n",
       "<text text-anchor=\"middle\" x=\"292\" y=\"-334.8\" font-family=\"Times New Roman,serif\" font-size=\"14.00\">entropy = 0.991</text>\r\n",
       "<text text-anchor=\"middle\" x=\"292\" y=\"-319.8\" font-family=\"Times New Roman,serif\" font-size=\"14.00\">samples = 12935</text>\r\n",
       "<text text-anchor=\"middle\" x=\"292\" y=\"-304.8\" font-family=\"Times New Roman,serif\" font-size=\"14.00\">value = [7186, 5749]</text>\r\n",
       "</g>\r\n",
       "<!-- 1 -->\r\n",
       "<g id=\"node2\" class=\"node\"><title>1</title>\r\n",
       "<polygon fill=\"none\" stroke=\"black\" points=\"297,-261 109,-261 109,-193 297,-193 297,-261\"/>\r\n",
       "<text text-anchor=\"middle\" x=\"203\" y=\"-245.8\" font-family=\"Times New Roman,serif\" font-size=\"14.00\">newbalanceDest &lt;= 14041.465</text>\r\n",
       "<text text-anchor=\"middle\" x=\"203\" y=\"-230.8\" font-family=\"Times New Roman,serif\" font-size=\"14.00\">entropy = 0.035</text>\r\n",
       "<text text-anchor=\"middle\" x=\"203\" y=\"-215.8\" font-family=\"Times New Roman,serif\" font-size=\"14.00\">samples = 7161</text>\r\n",
       "<text text-anchor=\"middle\" x=\"203\" y=\"-200.8\" font-family=\"Times New Roman,serif\" font-size=\"14.00\">value = [7135, 26]</text>\r\n",
       "</g>\r\n",
       "<!-- 0&#45;&gt;1 -->\r\n",
       "<g id=\"edge1\" class=\"edge\"><title>0&#45;&gt;1</title>\r\n",
       "<path fill=\"none\" stroke=\"black\" d=\"M263.104,-296.884C255.332,-287.976 246.833,-278.235 238.737,-268.957\"/>\r\n",
       "<polygon fill=\"black\" stroke=\"black\" points=\"241.267,-266.533 232.055,-261.299 235.993,-271.135 241.267,-266.533\"/>\r\n",
       "<text text-anchor=\"middle\" x=\"230.358\" y=\"-282.542\" font-family=\"Times New Roman,serif\" font-size=\"14.00\">True</text>\r\n",
       "</g>\r\n",
       "<!-- 6 -->\r\n",
       "<g id=\"node7\" class=\"node\"><title>6</title>\r\n",
       "<polygon fill=\"none\" stroke=\"black\" points=\"448.5,-261 315.5,-261 315.5,-193 448.5,-193 448.5,-261\"/>\r\n",
       "<text text-anchor=\"middle\" x=\"382\" y=\"-245.8\" font-family=\"Times New Roman,serif\" font-size=\"14.00\">amount &lt;= 21984.03</text>\r\n",
       "<text text-anchor=\"middle\" x=\"382\" y=\"-230.8\" font-family=\"Times New Roman,serif\" font-size=\"14.00\">entropy = 0.073</text>\r\n",
       "<text text-anchor=\"middle\" x=\"382\" y=\"-215.8\" font-family=\"Times New Roman,serif\" font-size=\"14.00\">samples = 5774</text>\r\n",
       "<text text-anchor=\"middle\" x=\"382\" y=\"-200.8\" font-family=\"Times New Roman,serif\" font-size=\"14.00\">value = [51, 5723]</text>\r\n",
       "</g>\r\n",
       "<!-- 0&#45;&gt;6 -->\r\n",
       "<g id=\"edge6\" class=\"edge\"><title>0&#45;&gt;6</title>\r\n",
       "<path fill=\"none\" stroke=\"black\" d=\"M321.22,-296.884C329.08,-287.976 337.675,-278.235 345.862,-268.957\"/>\r\n",
       "<polygon fill=\"black\" stroke=\"black\" points=\"348.626,-271.113 352.618,-261.299 343.378,-266.482 348.626,-271.113\"/>\r\n",
       "<text text-anchor=\"middle\" x=\"354.178\" y=\"-282.551\" font-family=\"Times New Roman,serif\" font-size=\"14.00\">False</text>\r\n",
       "</g>\r\n",
       "<!-- 2 -->\r\n",
       "<g id=\"node3\" class=\"node\"><title>2</title>\r\n",
       "<polygon fill=\"none\" stroke=\"black\" points=\"143,-157 25,-157 25,-89 143,-89 143,-157\"/>\r\n",
       "<text text-anchor=\"middle\" x=\"84\" y=\"-141.8\" font-family=\"Times New Roman,serif\" font-size=\"14.00\">amount &lt;= 0.01</text>\r\n",
       "<text text-anchor=\"middle\" x=\"84\" y=\"-126.8\" font-family=\"Times New Roman,serif\" font-size=\"14.00\">entropy = 0.018</text>\r\n",
       "<text text-anchor=\"middle\" x=\"84\" y=\"-111.8\" font-family=\"Times New Roman,serif\" font-size=\"14.00\">samples = 7147</text>\r\n",
       "<text text-anchor=\"middle\" x=\"84\" y=\"-96.8\" font-family=\"Times New Roman,serif\" font-size=\"14.00\">value = [7135, 12]</text>\r\n",
       "</g>\r\n",
       "<!-- 1&#45;&gt;2 -->\r\n",
       "<g id=\"edge2\" class=\"edge\"><title>1&#45;&gt;2</title>\r\n",
       "<path fill=\"none\" stroke=\"black\" d=\"M164.364,-192.884C153.556,-183.62 141.697,-173.455 130.486,-163.845\"/>\r\n",
       "<polygon fill=\"black\" stroke=\"black\" points=\"132.72,-161.15 122.849,-157.299 128.164,-166.465 132.72,-161.15\"/>\r\n",
       "</g>\r\n",
       "<!-- 5 -->\r\n",
       "<g id=\"node6\" class=\"node\"><title>5</title>\r\n",
       "<polygon fill=\"none\" stroke=\"black\" points=\"259,-149.5 161,-149.5 161,-96.5 259,-96.5 259,-149.5\"/>\r\n",
       "<text text-anchor=\"middle\" x=\"210\" y=\"-134.3\" font-family=\"Times New Roman,serif\" font-size=\"14.00\">entropy = 0.0</text>\r\n",
       "<text text-anchor=\"middle\" x=\"210\" y=\"-119.3\" font-family=\"Times New Roman,serif\" font-size=\"14.00\">samples = 14</text>\r\n",
       "<text text-anchor=\"middle\" x=\"210\" y=\"-104.3\" font-family=\"Times New Roman,serif\" font-size=\"14.00\">value = [0, 14]</text>\r\n",
       "</g>\r\n",
       "<!-- 1&#45;&gt;5 -->\r\n",
       "<g id=\"edge5\" class=\"edge\"><title>1&#45;&gt;5</title>\r\n",
       "<path fill=\"none\" stroke=\"black\" d=\"M205.273,-192.884C206.005,-182.216 206.819,-170.352 207.562,-159.519\"/>\r\n",
       "<polygon fill=\"black\" stroke=\"black\" points=\"211.056,-159.736 208.249,-149.52 204.072,-159.257 211.056,-159.736\"/>\r\n",
       "</g>\r\n",
       "<!-- 3 -->\r\n",
       "<g id=\"node4\" class=\"node\"><title>3</title>\r\n",
       "<polygon fill=\"none\" stroke=\"black\" points=\"92,-53 0,-53 0,-0 92,-0 92,-53\"/>\r\n",
       "<text text-anchor=\"middle\" x=\"46\" y=\"-37.8\" font-family=\"Times New Roman,serif\" font-size=\"14.00\">entropy = 0.0</text>\r\n",
       "<text text-anchor=\"middle\" x=\"46\" y=\"-22.8\" font-family=\"Times New Roman,serif\" font-size=\"14.00\">samples = 3</text>\r\n",
       "<text text-anchor=\"middle\" x=\"46\" y=\"-7.8\" font-family=\"Times New Roman,serif\" font-size=\"14.00\">value = [0, 3]</text>\r\n",
       "</g>\r\n",
       "<!-- 2&#45;&gt;3 -->\r\n",
       "<g id=\"edge3\" class=\"edge\"><title>2&#45;&gt;3</title>\r\n",
       "<path fill=\"none\" stroke=\"black\" d=\"M70.7094,-88.9485C67.2884,-80.4408 63.5951,-71.2562 60.1329,-62.6464\"/>\r\n",
       "<polygon fill=\"black\" stroke=\"black\" points=\"63.3273,-61.2089 56.3492,-53.2367 56.8327,-63.8205 63.3273,-61.2089\"/>\r\n",
       "</g>\r\n",
       "<!-- 4 -->\r\n",
       "<g id=\"node5\" class=\"node\"><title>4</title>\r\n",
       "<polygon fill=\"none\" stroke=\"black\" points=\"221.5,-53 110.5,-53 110.5,-0 221.5,-0 221.5,-53\"/>\r\n",
       "<text text-anchor=\"middle\" x=\"166\" y=\"-37.8\" font-family=\"Times New Roman,serif\" font-size=\"14.00\">entropy = 0.014</text>\r\n",
       "<text text-anchor=\"middle\" x=\"166\" y=\"-22.8\" font-family=\"Times New Roman,serif\" font-size=\"14.00\">samples = 7144</text>\r\n",
       "<text text-anchor=\"middle\" x=\"166\" y=\"-7.8\" font-family=\"Times New Roman,serif\" font-size=\"14.00\">value = [7135, 9]</text>\r\n",
       "</g>\r\n",
       "<!-- 2&#45;&gt;4 -->\r\n",
       "<g id=\"edge4\" class=\"edge\"><title>2&#45;&gt;4</title>\r\n",
       "<path fill=\"none\" stroke=\"black\" d=\"M112.68,-88.9485C120.538,-79.892 129.062,-70.0682 136.942,-60.9875\"/>\r\n",
       "<polygon fill=\"black\" stroke=\"black\" points=\"139.757,-63.0835 143.668,-53.2367 134.47,-58.4958 139.757,-63.0835\"/>\r\n",
       "</g>\r\n",
       "<!-- 7 -->\r\n",
       "<g id=\"node8\" class=\"node\"><title>7</title>\r\n",
       "<polygon fill=\"none\" stroke=\"black\" points=\"462.5,-157 289.5,-157 289.5,-89 462.5,-89 462.5,-157\"/>\r\n",
       "<text text-anchor=\"middle\" x=\"376\" y=\"-141.8\" font-family=\"Times New Roman,serif\" font-size=\"14.00\">oldbalanceOrg &lt;= 21335.23</text>\r\n",
       "<text text-anchor=\"middle\" x=\"376\" y=\"-126.8\" font-family=\"Times New Roman,serif\" font-size=\"14.00\">entropy = 0.549</text>\r\n",
       "<text text-anchor=\"middle\" x=\"376\" y=\"-111.8\" font-family=\"Times New Roman,serif\" font-size=\"14.00\">samples = 402</text>\r\n",
       "<text text-anchor=\"middle\" x=\"376\" y=\"-96.8\" font-family=\"Times New Roman,serif\" font-size=\"14.00\">value = [51, 351]</text>\r\n",
       "</g>\r\n",
       "<!-- 6&#45;&gt;7 -->\r\n",
       "<g id=\"edge7\" class=\"edge\"><title>6&#45;&gt;7</title>\r\n",
       "<path fill=\"none\" stroke=\"black\" d=\"M380.052,-192.884C379.575,-184.778 379.058,-175.982 378.557,-167.472\"/>\r\n",
       "<polygon fill=\"black\" stroke=\"black\" points=\"382.04,-167.077 377.959,-157.299 375.052,-167.488 382.04,-167.077\"/>\r\n",
       "</g>\r\n",
       "<!-- 10 -->\r\n",
       "<g id=\"node11\" class=\"node\"><title>10</title>\r\n",
       "<polygon fill=\"none\" stroke=\"black\" points=\"591.5,-149.5 480.5,-149.5 480.5,-96.5 591.5,-96.5 591.5,-149.5\"/>\r\n",
       "<text text-anchor=\"middle\" x=\"536\" y=\"-134.3\" font-family=\"Times New Roman,serif\" font-size=\"14.00\">entropy = 0.0</text>\r\n",
       "<text text-anchor=\"middle\" x=\"536\" y=\"-119.3\" font-family=\"Times New Roman,serif\" font-size=\"14.00\">samples = 5372</text>\r\n",
       "<text text-anchor=\"middle\" x=\"536\" y=\"-104.3\" font-family=\"Times New Roman,serif\" font-size=\"14.00\">value = [0, 5372]</text>\r\n",
       "</g>\r\n",
       "<!-- 6&#45;&gt;10 -->\r\n",
       "<g id=\"edge10\" class=\"edge\"><title>6&#45;&gt;10</title>\r\n",
       "<path fill=\"none\" stroke=\"black\" d=\"M431.999,-192.884C450.264,-180.786 470.85,-167.151 488.858,-155.224\"/>\r\n",
       "<polygon fill=\"black\" stroke=\"black\" points=\"491.065,-157.96 497.47,-149.52 487.2,-152.124 491.065,-157.96\"/>\r\n",
       "</g>\r\n",
       "<!-- 8 -->\r\n",
       "<g id=\"node9\" class=\"node\"><title>8</title>\r\n",
       "<polygon fill=\"none\" stroke=\"black\" points=\"386,-53 282,-53 282,-0 386,-0 386,-53\"/>\r\n",
       "<text text-anchor=\"middle\" x=\"334\" y=\"-37.8\" font-family=\"Times New Roman,serif\" font-size=\"14.00\">entropy = 0.0</text>\r\n",
       "<text text-anchor=\"middle\" x=\"334\" y=\"-22.8\" font-family=\"Times New Roman,serif\" font-size=\"14.00\">samples = 322</text>\r\n",
       "<text text-anchor=\"middle\" x=\"334\" y=\"-7.8\" font-family=\"Times New Roman,serif\" font-size=\"14.00\">value = [0, 322]</text>\r\n",
       "</g>\r\n",
       "<!-- 7&#45;&gt;8 -->\r\n",
       "<g id=\"edge8\" class=\"edge\"><title>7&#45;&gt;8</title>\r\n",
       "<path fill=\"none\" stroke=\"black\" d=\"M361.31,-88.9485C357.529,-80.4408 353.447,-71.2562 349.621,-62.6464\"/>\r\n",
       "<polygon fill=\"black\" stroke=\"black\" points=\"352.698,-60.9533 345.439,-53.2367 346.302,-63.7963 352.698,-60.9533\"/>\r\n",
       "</g>\r\n",
       "<!-- 9 -->\r\n",
       "<g id=\"node10\" class=\"node\"><title>9</title>\r\n",
       "<polygon fill=\"none\" stroke=\"black\" points=\"510,-53 404,-53 404,-0 510,-0 510,-53\"/>\r\n",
       "<text text-anchor=\"middle\" x=\"457\" y=\"-37.8\" font-family=\"Times New Roman,serif\" font-size=\"14.00\">entropy = 0.945</text>\r\n",
       "<text text-anchor=\"middle\" x=\"457\" y=\"-22.8\" font-family=\"Times New Roman,serif\" font-size=\"14.00\">samples = 80</text>\r\n",
       "<text text-anchor=\"middle\" x=\"457\" y=\"-7.8\" font-family=\"Times New Roman,serif\" font-size=\"14.00\">value = [51, 29]</text>\r\n",
       "</g>\r\n",
       "<!-- 7&#45;&gt;9 -->\r\n",
       "<g id=\"edge9\" class=\"edge\"><title>7&#45;&gt;9</title>\r\n",
       "<path fill=\"none\" stroke=\"black\" d=\"M404.33,-88.9485C412.093,-79.892 420.513,-70.0682 428.296,-60.9875\"/>\r\n",
       "<polygon fill=\"black\" stroke=\"black\" points=\"431.089,-63.1071 434.94,-53.2367 425.775,-58.5515 431.089,-63.1071\"/>\r\n",
       "</g>\r\n",
       "</g>\r\n",
       "</svg>\r\n"
      ],
      "text/plain": [
       "<graphviz.files.Source at 0x2284e6fb208>"
      ]
     },
     "execution_count": 28,
     "metadata": {},
     "output_type": "execute_result"
    }
   ],
   "source": [
    "Source(text)"
   ]
  },
  {
   "cell_type": "markdown",
   "metadata": {
    "tags": []
   },
   "source": [
    "##### Ver las características importantes del modelo de árboles de decisión"
   ]
  },
  {
   "cell_type": "code",
   "execution_count": 29,
   "metadata": {
    "tags": []
   },
   "outputs": [],
   "source": [
    "features = pd.DataFrame({\"nombres\": predictores, \"valores\": tree.feature_importances_})"
   ]
  },
  {
   "cell_type": "code",
   "execution_count": 30,
   "metadata": {
    "scrolled": true,
    "tags": []
   },
   "outputs": [
    {
     "data": {
      "text/html": [
       "<div>\n",
       "<style scoped>\n",
       "    .dataframe tbody tr th:only-of-type {\n",
       "        vertical-align: middle;\n",
       "    }\n",
       "\n",
       "    .dataframe tbody tr th {\n",
       "        vertical-align: top;\n",
       "    }\n",
       "\n",
       "    .dataframe thead th {\n",
       "        text-align: right;\n",
       "    }\n",
       "</style>\n",
       "<table border=\"1\" class=\"dataframe\">\n",
       "  <thead>\n",
       "    <tr style=\"text-align: right;\">\n",
       "      <th></th>\n",
       "      <th>nombres</th>\n",
       "      <th>valores</th>\n",
       "    </tr>\n",
       "  </thead>\n",
       "  <tbody>\n",
       "    <tr>\n",
       "      <th>0</th>\n",
       "      <td>amount</td>\n",
       "      <td>0.979018</td>\n",
       "    </tr>\n",
       "    <tr>\n",
       "      <th>1</th>\n",
       "      <td>oldbalanceOrg</td>\n",
       "      <td>0.011470</td>\n",
       "    </tr>\n",
       "    <tr>\n",
       "      <th>4</th>\n",
       "      <td>newbalanceDest</td>\n",
       "      <td>0.009512</td>\n",
       "    </tr>\n",
       "    <tr>\n",
       "      <th>2</th>\n",
       "      <td>newbalanceOrig</td>\n",
       "      <td>0.000000</td>\n",
       "    </tr>\n",
       "    <tr>\n",
       "      <th>3</th>\n",
       "      <td>oldbalanceDest</td>\n",
       "      <td>0.000000</td>\n",
       "    </tr>\n",
       "  </tbody>\n",
       "</table>\n",
       "</div>"
      ],
      "text/plain": [
       "          nombres   valores\n",
       "0          amount  0.979018\n",
       "1   oldbalanceOrg  0.011470\n",
       "4  newbalanceDest  0.009512\n",
       "2  newbalanceOrig  0.000000\n",
       "3  oldbalanceDest  0.000000"
      ]
     },
     "execution_count": 30,
     "metadata": {},
     "output_type": "execute_result"
    }
   ],
   "source": [
    "features.sort_values(\"valores\", ascending=False)"
   ]
  },
  {
   "cell_type": "code",
   "execution_count": 31,
   "metadata": {
    "tags": []
   },
   "outputs": [],
   "source": [
    "importancia_var = features[features.valores != 0]"
   ]
  },
  {
   "cell_type": "code",
   "execution_count": 32,
   "metadata": {
    "tags": []
   },
   "outputs": [],
   "source": [
    "y_posicion = list(range(len(importancia_var)))"
   ]
  },
  {
   "cell_type": "code",
   "execution_count": 33,
   "metadata": {
    "tags": []
   },
   "outputs": [],
   "source": [
    "scores_model = tuple(importancia_var[\"valores\"].values)"
   ]
  },
  {
   "cell_type": "code",
   "execution_count": 34,
   "metadata": {
    "tags": []
   },
   "outputs": [],
   "source": [
    "names_model = tuple(importancia_var[\"nombres\"].values)"
   ]
  },
  {
   "cell_type": "markdown",
   "metadata": {
    "tags": []
   },
   "source": [
    "##### Graficar las características importantes del modelo de árboles de decisión"
   ]
  },
  {
   "cell_type": "code",
   "execution_count": 35,
   "metadata": {
    "scrolled": true,
    "tags": []
   },
   "outputs": [
    {
     "data": {
      "image/png": "[encoded data removed]",
      "text/plain": [
       "<Figure size 720x288 with 1 Axes>"
      ]
     },
     "metadata": {
      "needs_background": "light"
     },
     "output_type": "display_data"
    }
   ],
   "source": [
    "plt.figure(figsize=(10, 4))\n",
    "plt.barh(y_posicion, scores_model, height=0.5, align=\"center\")\n",
    "plt.yticks(y_posicion, names_model)\n",
    "plt.xlabel(\"Puntaje de importancia\")\n",
    "plt.ylabel(\"Características\")\n",
    "plt.show()"
   ]
  },
  {
   "cell_type": "markdown",
   "metadata": {
    "tags": []
   },
   "source": [
    "#### **4. Implementar el modelo de random forest a los datos de entrenamiento.**"
   ]
  },
  {
   "cell_type": "code",
   "execution_count": 36,
   "metadata": {},
   "outputs": [],
   "source": [
    "rf=RandomForestClassifier(n_estimators=100,criterion='entropy', max_depth=3,random_state=2020)"
   ]
  },
  {
   "cell_type": "code",
   "execution_count": 37,
   "metadata": {},
   "outputs": [
    {
     "data": {
      "text/plain": [
       "RandomForestClassifier(criterion='entropy', max_depth=3, random_state=2020)"
      ]
     },
     "execution_count": 37,
     "metadata": {},
     "output_type": "execute_result"
    }
   ],
   "source": [
    "rf.fit(xtrain_us,ytrain_us)"
   ]
  },
  {
   "cell_type": "markdown",
   "metadata": {
    "tags": []
   },
   "source": [
    "#### **5.  Implementar el modelo de naive bayes a los datos de entrenamiento.**"
   ]
  },
  {
   "cell_type": "code",
   "execution_count": 38,
   "metadata": {},
   "outputs": [],
   "source": [
    "nbayes=GaussianNB()"
   ]
  },
  {
   "cell_type": "code",
   "execution_count": 39,
   "metadata": {},
   "outputs": [
    {
     "data": {
      "text/plain": [
       "GaussianNB()"
      ]
     },
     "execution_count": 39,
     "metadata": {},
     "output_type": "execute_result"
    }
   ],
   "source": [
    "nbayes.fit(xtrain_us,ytrain_us)"
   ]
  },
  {
   "cell_type": "markdown",
   "metadata": {
    "tags": []
   },
   "source": [
    "#### **6. Implementar el modelo de redes neuronales a los datos de entrenamiento.**"
   ]
  },
  {
   "cell_type": "code",
   "execution_count": 40,
   "metadata": {},
   "outputs": [],
   "source": [
    "neuronal=MLPClassifier(random_state=2020)"
   ]
  },
  {
   "cell_type": "code",
   "execution_count": 41,
   "metadata": {},
   "outputs": [
    {
     "data": {
      "text/plain": [
       "MLPClassifier(random_state=2020)"
      ]
     },
     "execution_count": 41,
     "metadata": {},
     "output_type": "execute_result"
    }
   ],
   "source": [
    "neuronal.fit(xtrain_us,ytrain_us)"
   ]
  },
  {
   "cell_type": "markdown",
   "metadata": {
    "tags": []
   },
   "source": [
    "#### **7. Haciendo uso de las métricas de accuracy, sensibilidad. especificidad, auc y curva ROC evaluar los modelos generados (train y test) y realizar un análisis.**"
   ]
  },
  {
   "cell_type": "code",
   "execution_count": 42,
   "metadata": {
    "tags": []
   },
   "outputs": [],
   "source": [
    "def prediccion(model, data):\n",
    "    prob_df = model.predict_proba(data)\n",
    "    dataframe = pd.DataFrame(prob_df[:, 1], columns=[\"prob y=1\"])\n",
    "    dataframe[\"prediccion\"] = np.where(dataframe[\"prob y=1\"] > 0.5, 1, 0)\n",
    "    return dataframe"
   ]
  },
  {
   "cell_type": "code",
   "execution_count": 43,
   "metadata": {
    "tags": []
   },
   "outputs": [],
   "source": [
    "class metricas:\n",
    "    def __init__(self, true_label, predict_label, model, model_type):\n",
    "        self.TN, self.FP, self.FN, self.TP = metrics.confusion_matrix(\n",
    "            true_label, predict_label\n",
    "        ).ravel()\n",
    "        (self.fpr, self.tpr, a) = roc_curve(true_label, predict_label)\n",
    "        print(type(self.fpr), type(self.tpr))\n",
    "        self.auc_metric = auc(self.fpr, self.tpr)\n",
    "        self.model = model\n",
    "        self.model_type = model_type\n",
    "\n",
    "    def accuracy(self):\n",
    "        return (self.TP + self.TN) / (self.TP + self.TN + self.FN + self.FP)\n",
    "\n",
    "    def auc(self):\n",
    "        return self.auc_metric\n",
    "\n",
    "    def sensibility(self):\n",
    "        return (self.TP) / (self.TP + self.FN)\n",
    "\n",
    "    def specificity(self):\n",
    "        return (self.TN) / (self.TN + self.FP)\n",
    "\n",
    "    def roc_curve(self):\n",
    "        plt.figure(figsize=(5, 5), dpi=100)\n",
    "        plt.plot(\n",
    "            self.fpr,\n",
    "            self.tpr,\n",
    "            linestyle=\"-\",\n",
    "            label=self.model + \"(auc=%0.3f)\" % self.auc_metric,\n",
    "        )\n",
    "        plt.title(\"Curva ROC para data \" + self.model_type)\n",
    "        plt.xlabel(\"False Positive Rate\")\n",
    "        plt.ylabel(\"True Positive Rate\")\n",
    "        plt.legend()\n",
    "\n",
    "        x = [i * 0.01 for i in range(100)]\n",
    "        y = [i * 0.01 for i in range(100)]\n",
    "        plt.plot(x, y)\n",
    "        plt.show()"
   ]
  },
  {
   "cell_type": "markdown",
   "metadata": {
    "tags": []
   },
   "source": [
    "##### **7.1 Árboles de decisión**"
   ]
  },
  {
   "cell_type": "markdown",
   "metadata": {
    "tags": []
   },
   "source": [
    "###### **METRICAS DE DATA DE ENTRENAMIENTO**"
   ]
  },
  {
   "cell_type": "code",
   "execution_count": 44,
   "metadata": {
    "tags": []
   },
   "outputs": [
    {
     "data": {
      "text/html": [
       "<div>\n",
       "<style scoped>\n",
       "    .dataframe tbody tr th:only-of-type {\n",
       "        vertical-align: middle;\n",
       "    }\n",
       "\n",
       "    .dataframe tbody tr th {\n",
       "        vertical-align: top;\n",
       "    }\n",
       "\n",
       "    .dataframe thead th {\n",
       "        text-align: right;\n",
       "    }\n",
       "</style>\n",
       "<table border=\"1\" class=\"dataframe\">\n",
       "  <thead>\n",
       "    <tr style=\"text-align: right;\">\n",
       "      <th></th>\n",
       "      <th>prob y=1</th>\n",
       "      <th>prediccion</th>\n",
       "    </tr>\n",
       "  </thead>\n",
       "  <tbody>\n",
       "    <tr>\n",
       "      <th>0</th>\n",
       "      <td>0.36250</td>\n",
       "      <td>0</td>\n",
       "    </tr>\n",
       "    <tr>\n",
       "      <th>1</th>\n",
       "      <td>0.36250</td>\n",
       "      <td>0</td>\n",
       "    </tr>\n",
       "    <tr>\n",
       "      <th>2</th>\n",
       "      <td>0.36250</td>\n",
       "      <td>0</td>\n",
       "    </tr>\n",
       "    <tr>\n",
       "      <th>3</th>\n",
       "      <td>0.00126</td>\n",
       "      <td>0</td>\n",
       "    </tr>\n",
       "    <tr>\n",
       "      <th>4</th>\n",
       "      <td>0.00126</td>\n",
       "      <td>0</td>\n",
       "    </tr>\n",
       "  </tbody>\n",
       "</table>\n",
       "</div>"
      ],
      "text/plain": [
       "   prob y=1  prediccion\n",
       "0   0.36250           0\n",
       "1   0.36250           0\n",
       "2   0.36250           0\n",
       "3   0.00126           0\n",
       "4   0.00126           0"
      ]
     },
     "execution_count": 44,
     "metadata": {},
     "output_type": "execute_result"
    }
   ],
   "source": [
    "prob_df_train_tree = prediccion(tree, xtrain_us)\n",
    "prob_df_train_tree.head()"
   ]
  },
  {
   "cell_type": "code",
   "execution_count": 45,
   "metadata": {
    "tags": []
   },
   "outputs": [
    {
     "name": "stdout",
     "output_type": "stream",
     "text": [
      "              precision    recall  f1-score   support\n",
      "\n",
      "           1       1.00      0.99      1.00      5749\n",
      "           0       0.99      1.00      1.00      7186\n",
      "\n",
      "    accuracy                           1.00     12935\n",
      "   macro avg       1.00      1.00      1.00     12935\n",
      "weighted avg       1.00      1.00      1.00     12935\n",
      "\n"
     ]
    }
   ],
   "source": [
    "meu.display_classification_report(ytrain_us, prob_df_train_tree[\"prediccion\"])"
   ]
  },
  {
   "cell_type": "code",
   "execution_count": 46,
   "metadata": {
    "tags": []
   },
   "outputs": [
    {
     "data": {
      "text/plain": [
       "0    7224\n",
       "1    5711\n",
       "Name: prediccion, dtype: int64"
      ]
     },
     "execution_count": 46,
     "metadata": {},
     "output_type": "execute_result"
    }
   ],
   "source": [
    "pd.value_counts(prob_df_train_tree.prediccion)"
   ]
  },
  {
   "cell_type": "code",
   "execution_count": 47,
   "metadata": {
    "tags": []
   },
   "outputs": [
    {
     "name": "stdout",
     "output_type": "stream",
     "text": [
      "<class 'numpy.ndarray'> <class 'numpy.ndarray'>\n"
     ]
    }
   ],
   "source": [
    "tree_class_train = metricas(ytrain_us, prob_df_train_tree[\"prediccion\"], \"tree\", \"entrenamiento\")"
   ]
  },
  {
   "cell_type": "markdown",
   "metadata": {
    "tags": []
   },
   "source": [
    "Accuracy"
   ]
  },
  {
   "cell_type": "code",
   "execution_count": 48,
   "metadata": {
    "tags": []
   },
   "outputs": [
    {
     "name": "stdout",
     "output_type": "stream",
     "text": [
      "El Accuracy para la Data de Entrenamiento es: 0.997\n"
     ]
    }
   ],
   "source": [
    "accuracy_train_tree = tree_class_train.accuracy().round(3)\n",
    "print(\"El Accuracy para la Data de Entrenamiento es:\", accuracy_train_tree)"
   ]
  },
  {
   "cell_type": "markdown",
   "metadata": {
    "tags": []
   },
   "source": [
    "Sensibilidad"
   ]
  },
  {
   "cell_type": "code",
   "execution_count": 49,
   "metadata": {
    "tags": []
   },
   "outputs": [
    {
     "name": "stdout",
     "output_type": "stream",
     "text": [
      "La Sensibilidad para la Data de Entrenamiento es: 0.993\n"
     ]
    }
   ],
   "source": [
    "sensibilidad_train_tree = tree_class_train.sensibility().round(3)\n",
    "print(\n",
    "    \"La Sensibilidad para la Data de Entrenamiento es:\", sensibilidad_train_tree\n",
    ")"
   ]
  },
  {
   "cell_type": "markdown",
   "metadata": {
    "tags": []
   },
   "source": [
    "Especificidad"
   ]
  },
  {
   "cell_type": "code",
   "execution_count": 50,
   "metadata": {
    "tags": []
   },
   "outputs": [
    {
     "name": "stdout",
     "output_type": "stream",
     "text": [
      "La Especificidad para la Data de Entrenamiento es: 1.0\n"
     ]
    }
   ],
   "source": [
    "especificidad_train_tree = tree_class_train.specificity().round(3)\n",
    "print(\n",
    "    \"La Especificidad para la Data de Entrenamiento es:\", especificidad_train_tree,\n",
    ")"
   ]
  },
  {
   "cell_type": "markdown",
   "metadata": {
    "tags": []
   },
   "source": [
    "AUC"
   ]
  },
  {
   "cell_type": "code",
   "execution_count": 51,
   "metadata": {
    "tags": []
   },
   "outputs": [
    {
     "name": "stdout",
     "output_type": "stream",
     "text": [
      "El area Bajo la Curva(AUC) para Data de Entrenamiento es:  0.997\n"
     ]
    }
   ],
   "source": [
    "# Para calcular de la curva ROC y AUC, la función roc_curve exige que las categorias sean 0 y 1\n",
    "auc_train_tree = tree_class_train.auc().round(3)\n",
    "print(\n",
    "    \"El area Bajo la Curva(AUC) para Data de Entrenamiento es: \",\n",
    "    auc_train_tree,\n",
    ")"
   ]
  },
  {
   "cell_type": "markdown",
   "metadata": {
    "tags": []
   },
   "source": [
    "ROC"
   ]
  },
  {
   "cell_type": "code",
   "execution_count": 52,
   "metadata": {
    "tags": []
   },
   "outputs": [
    {
     "data": {
      "image/png": "[encoded data removed]",
      "text/plain": [
       "<Figure size 500x500 with 1 Axes>"
      ]
     },
     "metadata": {
      "needs_background": "light"
     },
     "output_type": "display_data"
    }
   ],
   "source": [
    "tree_class_train.roc_curve()"
   ]
  },
  {
   "cell_type": "markdown",
   "metadata": {
    "tags": []
   },
   "source": [
    "###### **METRICAS DE DATA DE TESTEO**"
   ]
  },
  {
   "cell_type": "code",
   "execution_count": 53,
   "metadata": {
    "tags": []
   },
   "outputs": [
    {
     "data": {
      "text/html": [
       "<div>\n",
       "<style scoped>\n",
       "    .dataframe tbody tr th:only-of-type {\n",
       "        vertical-align: middle;\n",
       "    }\n",
       "\n",
       "    .dataframe tbody tr th {\n",
       "        vertical-align: top;\n",
       "    }\n",
       "\n",
       "    .dataframe thead th {\n",
       "        text-align: right;\n",
       "    }\n",
       "</style>\n",
       "<table border=\"1\" class=\"dataframe\">\n",
       "  <thead>\n",
       "    <tr style=\"text-align: right;\">\n",
       "      <th></th>\n",
       "      <th>prob y=1</th>\n",
       "      <th>prediccion</th>\n",
       "    </tr>\n",
       "  </thead>\n",
       "  <tbody>\n",
       "    <tr>\n",
       "      <th>0</th>\n",
       "      <td>1.0000</td>\n",
       "      <td>1</td>\n",
       "    </tr>\n",
       "    <tr>\n",
       "      <th>1</th>\n",
       "      <td>1.0000</td>\n",
       "      <td>1</td>\n",
       "    </tr>\n",
       "    <tr>\n",
       "      <th>2</th>\n",
       "      <td>1.0000</td>\n",
       "      <td>1</td>\n",
       "    </tr>\n",
       "    <tr>\n",
       "      <th>3</th>\n",
       "      <td>1.0000</td>\n",
       "      <td>1</td>\n",
       "    </tr>\n",
       "    <tr>\n",
       "      <th>4</th>\n",
       "      <td>0.3625</td>\n",
       "      <td>0</td>\n",
       "    </tr>\n",
       "  </tbody>\n",
       "</table>\n",
       "</div>"
      ],
      "text/plain": [
       "   prob y=1  prediccion\n",
       "0    1.0000           1\n",
       "1    1.0000           1\n",
       "2    1.0000           1\n",
       "3    1.0000           1\n",
       "4    0.3625           0"
      ]
     },
     "execution_count": 53,
     "metadata": {},
     "output_type": "execute_result"
    }
   ],
   "source": [
    "prob_df_test_tree = prediccion(tree, xtest)\n",
    "prob_df_test_tree.head()"
   ]
  },
  {
   "cell_type": "code",
   "execution_count": 54,
   "metadata": {
    "execution": {
     "iopub.execute_input": "2021-09-23T05:07:21.511756Z",
     "iopub.status.busy": "2021-09-23T05:07:21.510755Z",
     "iopub.status.idle": "2021-09-23T05:07:25.005147Z",
     "shell.execute_reply": "2021-09-23T05:07:25.004150Z",
     "shell.execute_reply.started": "2021-09-23T05:07:21.511756Z"
    },
    "tags": []
   },
   "outputs": [
    {
     "name": "stdout",
     "output_type": "stream",
     "text": [
      "              precision    recall  f1-score   support\n",
      "\n",
      "           1       0.00      0.99      0.00      2464\n",
      "           0       1.00      0.14      0.25   1906322\n",
      "\n",
      "    accuracy                           0.14   1908786\n",
      "   macro avg       0.50      0.57      0.13   1908786\n",
      "weighted avg       1.00      0.14      0.25   1908786\n",
      "\n"
     ]
    }
   ],
   "source": [
    "meu.display_classification_report(ytest, prob_df_test_tree[\"prediccion\"])"
   ]
  },
  {
   "cell_type": "code",
   "execution_count": 55,
   "metadata": {
    "execution": {
     "iopub.execute_input": "2021-09-23T05:07:25.006146Z",
     "iopub.status.busy": "2021-09-23T05:07:25.006146Z",
     "iopub.status.idle": "2021-09-23T05:07:25.037128Z",
     "shell.execute_reply": "2021-09-23T05:07:25.036128Z",
     "shell.execute_reply.started": "2021-09-23T05:07:25.006146Z"
    },
    "tags": []
   },
   "outputs": [
    {
     "data": {
      "text/plain": [
       "1    1639179\n",
       "0     269607\n",
       "Name: prediccion, dtype: int64"
      ]
     },
     "execution_count": 55,
     "metadata": {},
     "output_type": "execute_result"
    }
   ],
   "source": [
    "pd.value_counts(prob_df_test_tree.prediccion)"
   ]
  },
  {
   "cell_type": "code",
   "execution_count": 56,
   "metadata": {
    "execution": {
     "iopub.execute_input": "2021-09-23T05:07:25.038128Z",
     "iopub.status.busy": "2021-09-23T05:07:25.038128Z",
     "iopub.status.idle": "2021-09-23T05:07:26.863379Z",
     "shell.execute_reply": "2021-09-23T05:07:26.862678Z",
     "shell.execute_reply.started": "2021-09-23T05:07:25.038128Z"
    },
    "tags": []
   },
   "outputs": [
    {
     "name": "stdout",
     "output_type": "stream",
     "text": [
      "<class 'numpy.ndarray'> <class 'numpy.ndarray'>\n"
     ]
    }
   ],
   "source": [
    "tree_class_test = metricas(ytest, prob_df_test_tree[\"prediccion\"], \"tree\", \"testeo\")"
   ]
  },
  {
   "cell_type": "markdown",
   "metadata": {
    "tags": []
   },
   "source": [
    "Accuracy"
   ]
  },
  {
   "cell_type": "code",
   "execution_count": 57,
   "metadata": {
    "execution": {
     "iopub.execute_input": "2021-09-23T05:07:26.864381Z",
     "iopub.status.busy": "2021-09-23T05:07:26.864381Z",
     "iopub.status.idle": "2021-09-23T05:07:26.878374Z",
     "shell.execute_reply": "2021-09-23T05:07:26.878374Z",
     "shell.execute_reply.started": "2021-09-23T05:07:26.864381Z"
    },
    "tags": []
   },
   "outputs": [
    {
     "name": "stdout",
     "output_type": "stream",
     "text": [
      "El Accuracy para la Data de Entrenamiento es: 0.143\n"
     ]
    }
   ],
   "source": [
    "accuracy_test_tree = tree_class_test.accuracy().round(3)\n",
    "print(\"El Accuracy para la Data de Entrenamiento es:\", accuracy_test_tree)"
   ]
  },
  {
   "cell_type": "markdown",
   "metadata": {
    "jp-MarkdownHeadingCollapsed": true,
    "tags": []
   },
   "source": [
    "Sensibilidad"
   ]
  },
  {
   "cell_type": "code",
   "execution_count": 58,
   "metadata": {
    "execution": {
     "iopub.execute_input": "2021-09-23T05:07:26.880371Z",
     "iopub.status.busy": "2021-09-23T05:07:26.880371Z",
     "iopub.status.idle": "2021-09-23T05:07:26.894364Z",
     "shell.execute_reply": "2021-09-23T05:07:26.894364Z",
     "shell.execute_reply.started": "2021-09-23T05:07:26.880371Z"
    },
    "tags": []
   },
   "outputs": [
    {
     "name": "stdout",
     "output_type": "stream",
     "text": [
      "La Sensibilidad para la Data de Entrenamiento es: 0.992\n"
     ]
    }
   ],
   "source": [
    "sensibilidad_test_tree = tree_class_test.sensibility().round(3)\n",
    "print(\n",
    "    \"La Sensibilidad para la Data de Entrenamiento es:\", sensibilidad_test_tree\n",
    ")"
   ]
  },
  {
   "cell_type": "markdown",
   "metadata": {
    "tags": []
   },
   "source": [
    "Especificidad"
   ]
  },
  {
   "cell_type": "code",
   "execution_count": 59,
   "metadata": {
    "execution": {
     "iopub.execute_input": "2021-09-23T05:07:26.896362Z",
     "iopub.status.busy": "2021-09-23T05:07:26.896362Z",
     "iopub.status.idle": "2021-09-23T05:07:26.911353Z",
     "shell.execute_reply": "2021-09-23T05:07:26.910354Z",
     "shell.execute_reply.started": "2021-09-23T05:07:26.896362Z"
    },
    "tags": []
   },
   "outputs": [
    {
     "name": "stdout",
     "output_type": "stream",
     "text": [
      "La Especificidad para la Data de Entrenamiento es: 0.141\n"
     ]
    }
   ],
   "source": [
    "especificidad_test_tree = tree_class_test.specificity().round(3)\n",
    "print(\n",
    "    \"La Especificidad para la Data de Entrenamiento es:\",\n",
    "    especificidad_test_tree,\n",
    ")"
   ]
  },
  {
   "cell_type": "markdown",
   "metadata": {
    "tags": []
   },
   "source": [
    "AUC"
   ]
  },
  {
   "cell_type": "code",
   "execution_count": 60,
   "metadata": {
    "execution": {
     "iopub.execute_input": "2021-09-23T05:07:26.912353Z",
     "iopub.status.busy": "2021-09-23T05:07:26.912353Z",
     "iopub.status.idle": "2021-09-23T05:07:26.927343Z",
     "shell.execute_reply": "2021-09-23T05:07:26.926343Z",
     "shell.execute_reply.started": "2021-09-23T05:07:26.912353Z"
    },
    "tags": []
   },
   "outputs": [
    {
     "name": "stdout",
     "output_type": "stream",
     "text": [
      "El area Bajo la Curva(AUC) para Data de Entrenamiento es:  0.567\n"
     ]
    }
   ],
   "source": [
    "auc_test_tree = tree_class_test.auc().round(3)\n",
    "print(\n",
    "    \"El area Bajo la Curva(AUC) para Data de Entrenamiento es: \",\n",
    "    auc_test_tree\n",
    ")"
   ]
  },
  {
   "cell_type": "markdown",
   "metadata": {
    "tags": []
   },
   "source": [
    "ROC"
   ]
  },
  {
   "cell_type": "code",
   "execution_count": 61,
   "metadata": {
    "execution": {
     "iopub.execute_input": "2021-09-23T05:07:26.928343Z",
     "iopub.status.busy": "2021-09-23T05:07:26.928343Z",
     "iopub.status.idle": "2021-09-23T05:07:27.116225Z",
     "shell.execute_reply": "2021-09-23T05:07:27.115281Z",
     "shell.execute_reply.started": "2021-09-23T05:07:26.928343Z"
    },
    "tags": []
   },
   "outputs": [
    {
     "data": {
      "image/png": "[encoded data removed]",
      "text/plain": [
       "<Figure size 500x500 with 1 Axes>"
      ]
     },
     "metadata": {
      "needs_background": "light"
     },
     "output_type": "display_data"
    }
   ],
   "source": [
    "tree_class_test.roc_curve()"
   ]
  },
  {
   "cell_type": "markdown",
   "metadata": {
    "tags": []
   },
   "source": [
    "##### **7.2 Random Forest**"
   ]
  },
  {
   "cell_type": "markdown",
   "metadata": {
    "tags": []
   },
   "source": [
    "###### **METRICAS DE DATA DE ENTRENAMIENTO**"
   ]
  },
  {
   "cell_type": "code",
   "execution_count": 62,
   "metadata": {
    "execution": {
     "iopub.execute_input": "2021-09-23T05:07:27.117225Z",
     "iopub.status.busy": "2021-09-23T05:07:27.117225Z",
     "iopub.status.idle": "2021-09-23T05:07:27.210167Z",
     "shell.execute_reply": "2021-09-23T05:07:27.210167Z",
     "shell.execute_reply.started": "2021-09-23T05:07:27.117225Z"
    },
    "tags": []
   },
   "outputs": [
    {
     "data": {
      "text/html": [
       "<div>\n",
       "<style scoped>\n",
       "    .dataframe tbody tr th:only-of-type {\n",
       "        vertical-align: middle;\n",
       "    }\n",
       "\n",
       "    .dataframe tbody tr th {\n",
       "        vertical-align: top;\n",
       "    }\n",
       "\n",
       "    .dataframe thead th {\n",
       "        text-align: right;\n",
       "    }\n",
       "</style>\n",
       "<table border=\"1\" class=\"dataframe\">\n",
       "  <thead>\n",
       "    <tr style=\"text-align: right;\">\n",
       "      <th></th>\n",
       "      <th>prob y=1</th>\n",
       "      <th>prediccion</th>\n",
       "    </tr>\n",
       "  </thead>\n",
       "  <tbody>\n",
       "    <tr>\n",
       "      <th>0</th>\n",
       "      <td>0.497299</td>\n",
       "      <td>0</td>\n",
       "    </tr>\n",
       "    <tr>\n",
       "      <th>1</th>\n",
       "      <td>0.709236</td>\n",
       "      <td>1</td>\n",
       "    </tr>\n",
       "    <tr>\n",
       "      <th>2</th>\n",
       "      <td>0.709236</td>\n",
       "      <td>1</td>\n",
       "    </tr>\n",
       "    <tr>\n",
       "      <th>3</th>\n",
       "      <td>0.012416</td>\n",
       "      <td>0</td>\n",
       "    </tr>\n",
       "    <tr>\n",
       "      <th>4</th>\n",
       "      <td>0.012651</td>\n",
       "      <td>0</td>\n",
       "    </tr>\n",
       "  </tbody>\n",
       "</table>\n",
       "</div>"
      ],
      "text/plain": [
       "   prob y=1  prediccion\n",
       "0  0.497299           0\n",
       "1  0.709236           1\n",
       "2  0.709236           1\n",
       "3  0.012416           0\n",
       "4  0.012651           0"
      ]
     },
     "execution_count": 62,
     "metadata": {},
     "output_type": "execute_result"
    }
   ],
   "source": [
    "prob_df_train_rf = prediccion(rf, xtrain_us)\n",
    "prob_df_train_rf.head()"
   ]
  },
  {
   "cell_type": "code",
   "execution_count": 63,
   "metadata": {
    "execution": {
     "iopub.execute_input": "2021-09-23T05:07:27.212166Z",
     "iopub.status.busy": "2021-09-23T05:07:27.212166Z",
     "iopub.status.idle": "2021-09-23T05:07:27.243148Z",
     "shell.execute_reply": "2021-09-23T05:07:27.242150Z",
     "shell.execute_reply.started": "2021-09-23T05:07:27.212166Z"
    },
    "tags": []
   },
   "outputs": [
    {
     "name": "stdout",
     "output_type": "stream",
     "text": [
      "              precision    recall  f1-score   support\n",
      "\n",
      "           1       0.99      1.00      1.00      5749\n",
      "           0       1.00      1.00      1.00      7186\n",
      "\n",
      "    accuracy                           1.00     12935\n",
      "   macro avg       1.00      1.00      1.00     12935\n",
      "weighted avg       1.00      1.00      1.00     12935\n",
      "\n"
     ]
    }
   ],
   "source": [
    "meu.display_classification_report(ytrain_us, prob_df_train_rf[\"prediccion\"])"
   ]
  },
  {
   "cell_type": "code",
   "execution_count": 64,
   "metadata": {
    "execution": {
     "iopub.execute_input": "2021-09-23T05:07:27.244147Z",
     "iopub.status.busy": "2021-09-23T05:07:27.244147Z",
     "iopub.status.idle": "2021-09-23T05:07:27.259137Z",
     "shell.execute_reply": "2021-09-23T05:07:27.258141Z",
     "shell.execute_reply.started": "2021-09-23T05:07:27.244147Z"
    },
    "tags": []
   },
   "outputs": [
    {
     "data": {
      "text/plain": [
       "0    7164\n",
       "1    5771\n",
       "Name: prediccion, dtype: int64"
      ]
     },
     "execution_count": 64,
     "metadata": {},
     "output_type": "execute_result"
    }
   ],
   "source": [
    "pd.value_counts(prob_df_train_rf.prediccion)"
   ]
  },
  {
   "cell_type": "code",
   "execution_count": 65,
   "metadata": {
    "execution": {
     "iopub.execute_input": "2021-09-23T05:07:27.261137Z",
     "iopub.status.busy": "2021-09-23T05:07:27.260137Z",
     "iopub.status.idle": "2021-09-23T05:07:27.291118Z",
     "shell.execute_reply": "2021-09-23T05:07:27.290119Z",
     "shell.execute_reply.started": "2021-09-23T05:07:27.260137Z"
    },
    "tags": []
   },
   "outputs": [
    {
     "name": "stdout",
     "output_type": "stream",
     "text": [
      "<class 'numpy.ndarray'> <class 'numpy.ndarray'>\n"
     ]
    }
   ],
   "source": [
    "rf_class_train = metricas(ytrain_us, prob_df_train_rf[\"prediccion\"], \"RandomForest\", \"entrenamiento\")"
   ]
  },
  {
   "cell_type": "markdown",
   "metadata": {
    "tags": []
   },
   "source": [
    "Accuracy"
   ]
  },
  {
   "cell_type": "code",
   "execution_count": 66,
   "metadata": {
    "execution": {
     "iopub.execute_input": "2021-09-23T05:07:27.293117Z",
     "iopub.status.busy": "2021-09-23T05:07:27.293117Z",
     "iopub.status.idle": "2021-09-23T05:07:27.306109Z",
     "shell.execute_reply": "2021-09-23T05:07:27.306109Z",
     "shell.execute_reply.started": "2021-09-23T05:07:27.293117Z"
    },
    "tags": []
   },
   "outputs": [
    {
     "name": "stdout",
     "output_type": "stream",
     "text": [
      "El Accuracy para la Data de Entrenamiento es: 0.996\n"
     ]
    }
   ],
   "source": [
    "accuracy_train_rf = rf_class_train.accuracy().round(3)\n",
    "print(\"El Accuracy para la Data de Entrenamiento es:\", accuracy_train_rf)"
   ]
  },
  {
   "cell_type": "markdown",
   "metadata": {
    "jp-MarkdownHeadingCollapsed": true,
    "tags": []
   },
   "source": [
    "Sensibilidad"
   ]
  },
  {
   "cell_type": "code",
   "execution_count": 67,
   "metadata": {
    "execution": {
     "iopub.execute_input": "2021-09-23T05:07:27.308109Z",
     "iopub.status.busy": "2021-09-23T05:07:27.308109Z",
     "iopub.status.idle": "2021-09-23T05:07:27.321099Z",
     "shell.execute_reply": "2021-09-23T05:07:27.321099Z",
     "shell.execute_reply.started": "2021-09-23T05:07:27.308109Z"
    },
    "tags": []
   },
   "outputs": [
    {
     "name": "stdout",
     "output_type": "stream",
     "text": [
      "La Sensibilidad para la Data de Entrenamiento es: 0.998\n"
     ]
    }
   ],
   "source": [
    "sensibilidad_train_rf = rf_class_train.sensibility().round(3)\n",
    "print(\n",
    "    \"La Sensibilidad para la Data de Entrenamiento es:\", sensibilidad_train_rf\n",
    ")"
   ]
  },
  {
   "cell_type": "markdown",
   "metadata": {
    "tags": []
   },
   "source": [
    "Especificidad"
   ]
  },
  {
   "cell_type": "code",
   "execution_count": 68,
   "metadata": {
    "execution": {
     "iopub.execute_input": "2021-09-23T05:07:27.324097Z",
     "iopub.status.busy": "2021-09-23T05:07:27.323098Z",
     "iopub.status.idle": "2021-09-23T05:07:27.337090Z",
     "shell.execute_reply": "2021-09-23T05:07:27.337090Z",
     "shell.execute_reply.started": "2021-09-23T05:07:27.324097Z"
    },
    "tags": []
   },
   "outputs": [
    {
     "name": "stdout",
     "output_type": "stream",
     "text": [
      "La Especificidad para la Data de Entrenamiento es: 0.995\n"
     ]
    }
   ],
   "source": [
    "especificidad_train_rf = rf_class_train.specificity().round(3)\n",
    "print(\n",
    "    \"La Especificidad para la Data de Entrenamiento es:\",\n",
    "    especificidad_train_rf,\n",
    ")"
   ]
  },
  {
   "cell_type": "markdown",
   "metadata": {
    "tags": []
   },
   "source": [
    "AUC"
   ]
  },
  {
   "cell_type": "code",
   "execution_count": 69,
   "metadata": {
    "execution": {
     "iopub.execute_input": "2021-09-23T05:07:27.339088Z",
     "iopub.status.busy": "2021-09-23T05:07:27.338089Z",
     "iopub.status.idle": "2021-09-23T05:07:27.354078Z",
     "shell.execute_reply": "2021-09-23T05:07:27.353079Z",
     "shell.execute_reply.started": "2021-09-23T05:07:27.339088Z"
    },
    "tags": []
   },
   "outputs": [
    {
     "name": "stdout",
     "output_type": "stream",
     "text": [
      "El area Bajo la Curva(AUC) para Data de Entrenamiento es:  0.997\n"
     ]
    }
   ],
   "source": [
    "# Para calcular de la curva ROC y AUC, la función roc_curve exige que las categorias sean 0 y 1\n",
    "auc_train_rf = rf_class_train.auc().round(3)\n",
    "print(\n",
    "    \"El area Bajo la Curva(AUC) para Data de Entrenamiento es: \",\n",
    "    auc_train_rf,\n",
    ")"
   ]
  },
  {
   "cell_type": "markdown",
   "metadata": {
    "tags": []
   },
   "source": [
    "ROC"
   ]
  },
  {
   "cell_type": "code",
   "execution_count": 70,
   "metadata": {
    "execution": {
     "iopub.execute_input": "2021-09-23T05:07:27.355078Z",
     "iopub.status.busy": "2021-09-23T05:07:27.355078Z",
     "iopub.status.idle": "2021-09-23T05:07:27.571944Z",
     "shell.execute_reply": "2021-09-23T05:07:27.571944Z",
     "shell.execute_reply.started": "2021-09-23T05:07:27.355078Z"
    },
    "tags": []
   },
   "outputs": [
    {
     "data": {
      "image/png": "[encoded data removed]",
      "text/plain": [
       "<Figure size 500x500 with 1 Axes>"
      ]
     },
     "metadata": {
      "needs_background": "light"
     },
     "output_type": "display_data"
    }
   ],
   "source": [
    "rf_class_train.roc_curve()"
   ]
  },
  {
   "cell_type": "markdown",
   "metadata": {
    "tags": []
   },
   "source": [
    "###### **METRICAS DE DATA DE TESTEO**"
   ]
  },
  {
   "cell_type": "code",
   "execution_count": 71,
   "metadata": {
    "execution": {
     "iopub.execute_input": "2021-09-23T05:07:27.573942Z",
     "iopub.status.busy": "2021-09-23T05:07:27.572944Z",
     "iopub.status.idle": "2021-09-23T05:07:40.828554Z",
     "shell.execute_reply": "2021-09-23T05:07:40.828554Z",
     "shell.execute_reply.started": "2021-09-23T05:07:27.573942Z"
    },
    "tags": []
   },
   "outputs": [
    {
     "data": {
      "text/html": [
       "<div>\n",
       "<style scoped>\n",
       "    .dataframe tbody tr th:only-of-type {\n",
       "        vertical-align: middle;\n",
       "    }\n",
       "\n",
       "    .dataframe tbody tr th {\n",
       "        vertical-align: top;\n",
       "    }\n",
       "\n",
       "    .dataframe thead th {\n",
       "        text-align: right;\n",
       "    }\n",
       "</style>\n",
       "<table border=\"1\" class=\"dataframe\">\n",
       "  <thead>\n",
       "    <tr style=\"text-align: right;\">\n",
       "      <th></th>\n",
       "      <th>prob y=1</th>\n",
       "      <th>prediccion</th>\n",
       "    </tr>\n",
       "  </thead>\n",
       "  <tbody>\n",
       "    <tr>\n",
       "      <th>0</th>\n",
       "      <td>0.697137</td>\n",
       "      <td>1</td>\n",
       "    </tr>\n",
       "    <tr>\n",
       "      <th>1</th>\n",
       "      <td>0.993399</td>\n",
       "      <td>1</td>\n",
       "    </tr>\n",
       "    <tr>\n",
       "      <th>2</th>\n",
       "      <td>0.697137</td>\n",
       "      <td>1</td>\n",
       "    </tr>\n",
       "    <tr>\n",
       "      <th>3</th>\n",
       "      <td>0.697137</td>\n",
       "      <td>1</td>\n",
       "    </tr>\n",
       "    <tr>\n",
       "      <th>4</th>\n",
       "      <td>0.711921</td>\n",
       "      <td>1</td>\n",
       "    </tr>\n",
       "  </tbody>\n",
       "</table>\n",
       "</div>"
      ],
      "text/plain": [
       "   prob y=1  prediccion\n",
       "0  0.697137           1\n",
       "1  0.993399           1\n",
       "2  0.697137           1\n",
       "3  0.697137           1\n",
       "4  0.711921           1"
      ]
     },
     "execution_count": 71,
     "metadata": {},
     "output_type": "execute_result"
    }
   ],
   "source": [
    "prob_df_test_rf = prediccion(rf, xtest)\n",
    "prob_df_test_rf.head()"
   ]
  },
  {
   "cell_type": "code",
   "execution_count": 72,
   "metadata": {
    "execution": {
     "iopub.execute_input": "2021-09-23T05:07:40.829553Z",
     "iopub.status.busy": "2021-09-23T05:07:40.829553Z",
     "iopub.status.idle": "2021-09-23T05:07:44.414077Z",
     "shell.execute_reply": "2021-09-23T05:07:44.413077Z",
     "shell.execute_reply.started": "2021-09-23T05:07:40.829553Z"
    },
    "tags": []
   },
   "outputs": [
    {
     "name": "stdout",
     "output_type": "stream",
     "text": [
      "              precision    recall  f1-score   support\n",
      "\n",
      "           1       0.00      1.00      0.00      2464\n",
      "           0       1.00      0.11      0.20   1906322\n",
      "\n",
      "    accuracy                           0.11   1908786\n",
      "   macro avg       0.50      0.55      0.10   1908786\n",
      "weighted avg       1.00      0.11      0.20   1908786\n",
      "\n"
     ]
    }
   ],
   "source": [
    "meu.display_classification_report(ytest, prob_df_test_rf[\"prediccion\"])"
   ]
  },
  {
   "cell_type": "code",
   "execution_count": 73,
   "metadata": {
    "execution": {
     "iopub.execute_input": "2021-09-23T05:07:44.415076Z",
     "iopub.status.busy": "2021-09-23T05:07:44.415076Z",
     "iopub.status.idle": "2021-09-23T05:07:44.445058Z",
     "shell.execute_reply": "2021-09-23T05:07:44.444058Z",
     "shell.execute_reply.started": "2021-09-23T05:07:44.415076Z"
    },
    "tags": []
   },
   "outputs": [
    {
     "data": {
      "text/plain": [
       "1    1693921\n",
       "0     214865\n",
       "Name: prediccion, dtype: int64"
      ]
     },
     "execution_count": 73,
     "metadata": {},
     "output_type": "execute_result"
    }
   ],
   "source": [
    "pd.value_counts(prob_df_test_rf.prediccion)"
   ]
  },
  {
   "cell_type": "code",
   "execution_count": 74,
   "metadata": {
    "execution": {
     "iopub.execute_input": "2021-09-23T05:07:44.446059Z",
     "iopub.status.busy": "2021-09-23T05:07:44.446059Z",
     "iopub.status.idle": "2021-09-23T05:07:46.432668Z",
     "shell.execute_reply": "2021-09-23T05:07:46.431669Z",
     "shell.execute_reply.started": "2021-09-23T05:07:44.446059Z"
    },
    "tags": []
   },
   "outputs": [
    {
     "name": "stdout",
     "output_type": "stream",
     "text": [
      "<class 'numpy.ndarray'> <class 'numpy.ndarray'>\n"
     ]
    }
   ],
   "source": [
    "rf_class_test = metricas(ytest, prob_df_test_rf[\"prediccion\"], \"RandomForest\", \"test\")"
   ]
  },
  {
   "cell_type": "markdown",
   "metadata": {
    "tags": []
   },
   "source": [
    "Accuracy"
   ]
  },
  {
   "cell_type": "code",
   "execution_count": 75,
   "metadata": {
    "execution": {
     "iopub.execute_input": "2021-09-23T05:07:46.433668Z",
     "iopub.status.busy": "2021-09-23T05:07:46.433668Z",
     "iopub.status.idle": "2021-09-23T05:07:46.446661Z",
     "shell.execute_reply": "2021-09-23T05:07:46.446661Z",
     "shell.execute_reply.started": "2021-09-23T05:07:46.433668Z"
    },
    "tags": []
   },
   "outputs": [
    {
     "name": "stdout",
     "output_type": "stream",
     "text": [
      "El Accuracy para la Data de Entrenamiento es: 0.114\n"
     ]
    }
   ],
   "source": [
    "accuracy_test_rf = rf_class_test.accuracy().round(3)\n",
    "print(\"El Accuracy para la Data de Entrenamiento es:\", accuracy_test_rf)"
   ]
  },
  {
   "cell_type": "markdown",
   "metadata": {
    "tags": []
   },
   "source": [
    "Sensibilidad"
   ]
  },
  {
   "cell_type": "code",
   "execution_count": 76,
   "metadata": {
    "execution": {
     "iopub.execute_input": "2021-09-23T05:07:46.448659Z",
     "iopub.status.busy": "2021-09-23T05:07:46.448659Z",
     "iopub.status.idle": "2021-09-23T05:07:46.463650Z",
     "shell.execute_reply": "2021-09-23T05:07:46.462650Z",
     "shell.execute_reply.started": "2021-09-23T05:07:46.448659Z"
    },
    "tags": []
   },
   "outputs": [
    {
     "name": "stdout",
     "output_type": "stream",
     "text": [
      "La Sensibilidad para la Data de Entrenamiento es: 0.996\n"
     ]
    }
   ],
   "source": [
    "sensibilidad_test_rf = rf_class_test.sensibility().round(3)\n",
    "print(\n",
    "    \"La Sensibilidad para la Data de Entrenamiento es:\", sensibilidad_test_rf\n",
    ")"
   ]
  },
  {
   "cell_type": "markdown",
   "metadata": {
    "tags": []
   },
   "source": [
    "Especificidad"
   ]
  },
  {
   "cell_type": "code",
   "execution_count": 77,
   "metadata": {
    "execution": {
     "iopub.execute_input": "2021-09-23T05:07:46.465649Z",
     "iopub.status.busy": "2021-09-23T05:07:46.465649Z",
     "iopub.status.idle": "2021-09-23T05:07:46.478640Z",
     "shell.execute_reply": "2021-09-23T05:07:46.478640Z",
     "shell.execute_reply.started": "2021-09-23T05:07:46.465649Z"
    },
    "tags": []
   },
   "outputs": [
    {
     "name": "stdout",
     "output_type": "stream",
     "text": [
      "La Especificidad para la Data de Entrenamiento es: 0.113\n"
     ]
    }
   ],
   "source": [
    "especificidad_test_rf = rf_class_test.specificity().round(3)\n",
    "print(\n",
    "    \"La Especificidad para la Data de Entrenamiento es:\",\n",
    "    especificidad_test_rf,\n",
    ")"
   ]
  },
  {
   "cell_type": "markdown",
   "metadata": {
    "tags": []
   },
   "source": [
    "AUC"
   ]
  },
  {
   "cell_type": "code",
   "execution_count": 78,
   "metadata": {
    "execution": {
     "iopub.execute_input": "2021-09-23T05:07:46.480639Z",
     "iopub.status.busy": "2021-09-23T05:07:46.480639Z",
     "iopub.status.idle": "2021-09-23T05:07:46.494631Z",
     "shell.execute_reply": "2021-09-23T05:07:46.493632Z",
     "shell.execute_reply.started": "2021-09-23T05:07:46.480639Z"
    },
    "tags": []
   },
   "outputs": [
    {
     "name": "stdout",
     "output_type": "stream",
     "text": [
      "El area Bajo la Curva(AUC) para Data de Entrenamiento es:  0.555\n"
     ]
    }
   ],
   "source": [
    "# Para calcular de la curva ROC y AUC, la función roc_curve exige que las categorias sean 0 y 1\n",
    "auc_test_rf = rf_class_test.auc().round(3)\n",
    "print(\n",
    "    \"El area Bajo la Curva(AUC) para Data de Entrenamiento es: \",\n",
    "    auc_test_rf,\n",
    ")"
   ]
  },
  {
   "cell_type": "markdown",
   "metadata": {
    "tags": []
   },
   "source": [
    "ROC"
   ]
  },
  {
   "cell_type": "code",
   "execution_count": 79,
   "metadata": {
    "execution": {
     "iopub.execute_input": "2021-09-23T05:07:46.495629Z",
     "iopub.status.busy": "2021-09-23T05:07:46.495629Z",
     "iopub.status.idle": "2021-09-23T05:07:46.683513Z",
     "shell.execute_reply": "2021-09-23T05:07:46.682514Z",
     "shell.execute_reply.started": "2021-09-23T05:07:46.495629Z"
    },
    "tags": []
   },
   "outputs": [
    {
     "data": {
      "image/png": "[encoded data removed]",
      "text/plain": [
       "<Figure size 500x500 with 1 Axes>"
      ]
     },
     "metadata": {
      "needs_background": "light"
     },
     "output_type": "display_data"
    }
   ],
   "source": [
    "rf_class_test.roc_curve()"
   ]
  },
  {
   "cell_type": "markdown",
   "metadata": {
    "tags": []
   },
   "source": [
    "##### **7.3 Naive Bayes**"
   ]
  },
  {
   "cell_type": "markdown",
   "metadata": {
    "tags": []
   },
   "source": [
    "###### **METRICAS DE DATA DE ENTRENAMIENTO**"
   ]
  },
  {
   "cell_type": "code",
   "execution_count": 80,
   "metadata": {
    "execution": {
     "iopub.execute_input": "2021-09-23T05:07:46.684513Z",
     "iopub.status.busy": "2021-09-23T05:07:46.684513Z",
     "iopub.status.idle": "2021-09-23T05:07:46.714495Z",
     "shell.execute_reply": "2021-09-23T05:07:46.714495Z",
     "shell.execute_reply.started": "2021-09-23T05:07:46.684513Z"
    },
    "tags": []
   },
   "outputs": [
    {
     "data": {
      "text/html": [
       "<div>\n",
       "<style scoped>\n",
       "    .dataframe tbody tr th:only-of-type {\n",
       "        vertical-align: middle;\n",
       "    }\n",
       "\n",
       "    .dataframe tbody tr th {\n",
       "        vertical-align: top;\n",
       "    }\n",
       "\n",
       "    .dataframe thead th {\n",
       "        text-align: right;\n",
       "    }\n",
       "</style>\n",
       "<table border=\"1\" class=\"dataframe\">\n",
       "  <thead>\n",
       "    <tr style=\"text-align: right;\">\n",
       "      <th></th>\n",
       "      <th>prob y=1</th>\n",
       "      <th>prediccion</th>\n",
       "    </tr>\n",
       "  </thead>\n",
       "  <tbody>\n",
       "    <tr>\n",
       "      <th>0</th>\n",
       "      <td>1.000000e+00</td>\n",
       "      <td>1</td>\n",
       "    </tr>\n",
       "    <tr>\n",
       "      <th>1</th>\n",
       "      <td>1.000000e+00</td>\n",
       "      <td>1</td>\n",
       "    </tr>\n",
       "    <tr>\n",
       "      <th>2</th>\n",
       "      <td>1.000000e+00</td>\n",
       "      <td>1</td>\n",
       "    </tr>\n",
       "    <tr>\n",
       "      <th>3</th>\n",
       "      <td>4.799454e-21</td>\n",
       "      <td>0</td>\n",
       "    </tr>\n",
       "    <tr>\n",
       "      <th>4</th>\n",
       "      <td>4.794043e-21</td>\n",
       "      <td>0</td>\n",
       "    </tr>\n",
       "  </tbody>\n",
       "</table>\n",
       "</div>"
      ],
      "text/plain": [
       "       prob y=1  prediccion\n",
       "0  1.000000e+00           1\n",
       "1  1.000000e+00           1\n",
       "2  1.000000e+00           1\n",
       "3  4.799454e-21           0\n",
       "4  4.794043e-21           0"
      ]
     },
     "execution_count": 80,
     "metadata": {},
     "output_type": "execute_result"
    }
   ],
   "source": [
    "prob_df_train_nbayes = prediccion(nbayes, xtrain_us)\n",
    "prob_df_train_nbayes.head()"
   ]
  },
  {
   "cell_type": "code",
   "execution_count": 81,
   "metadata": {
    "execution": {
     "iopub.execute_input": "2021-09-23T05:07:46.716492Z",
     "iopub.status.busy": "2021-09-23T05:07:46.715493Z",
     "iopub.status.idle": "2021-09-23T05:07:46.746474Z",
     "shell.execute_reply": "2021-09-23T05:07:46.746474Z",
     "shell.execute_reply.started": "2021-09-23T05:07:46.716492Z"
    },
    "tags": []
   },
   "outputs": [
    {
     "name": "stdout",
     "output_type": "stream",
     "text": [
      "              precision    recall  f1-score   support\n",
      "\n",
      "           1       0.99      0.98      0.99      5749\n",
      "           0       0.98      0.99      0.99      7186\n",
      "\n",
      "    accuracy                           0.99     12935\n",
      "   macro avg       0.99      0.99      0.99     12935\n",
      "weighted avg       0.99      0.99      0.99     12935\n",
      "\n"
     ]
    }
   ],
   "source": [
    "meu.display_classification_report(ytrain_us, prob_df_train_nbayes[\"prediccion\"])"
   ]
  },
  {
   "cell_type": "code",
   "execution_count": 82,
   "metadata": {
    "execution": {
     "iopub.execute_input": "2021-09-23T05:07:46.748473Z",
     "iopub.status.busy": "2021-09-23T05:07:46.747473Z",
     "iopub.status.idle": "2021-09-23T05:07:46.763464Z",
     "shell.execute_reply": "2021-09-23T05:07:46.762465Z",
     "shell.execute_reply.started": "2021-09-23T05:07:46.748473Z"
    },
    "tags": []
   },
   "outputs": [
    {
     "data": {
      "text/plain": [
       "0    7249\n",
       "1    5686\n",
       "Name: prediccion, dtype: int64"
      ]
     },
     "execution_count": 82,
     "metadata": {},
     "output_type": "execute_result"
    }
   ],
   "source": [
    "pd.value_counts(prob_df_train_nbayes.prediccion)"
   ]
  },
  {
   "cell_type": "code",
   "execution_count": 83,
   "metadata": {
    "execution": {
     "iopub.execute_input": "2021-09-23T05:07:46.764463Z",
     "iopub.status.busy": "2021-09-23T05:07:46.764463Z",
     "iopub.status.idle": "2021-09-23T05:07:46.794953Z",
     "shell.execute_reply": "2021-09-23T05:07:46.793952Z",
     "shell.execute_reply.started": "2021-09-23T05:07:46.764463Z"
    },
    "tags": []
   },
   "outputs": [
    {
     "name": "stdout",
     "output_type": "stream",
     "text": [
      "<class 'numpy.ndarray'> <class 'numpy.ndarray'>\n"
     ]
    }
   ],
   "source": [
    "nbayes_class_train = metricas(ytrain_us, prob_df_train_nbayes[\"prediccion\"], \"NaiveBayes\", \"entrenamiento\")"
   ]
  },
  {
   "cell_type": "markdown",
   "metadata": {
    "tags": []
   },
   "source": [
    "Accuracy"
   ]
  },
  {
   "cell_type": "code",
   "execution_count": 84,
   "metadata": {
    "execution": {
     "iopub.execute_input": "2021-09-23T05:07:46.796950Z",
     "iopub.status.busy": "2021-09-23T05:07:46.796950Z",
     "iopub.status.idle": "2021-09-23T05:07:46.810942Z",
     "shell.execute_reply": "2021-09-23T05:07:46.809942Z",
     "shell.execute_reply.started": "2021-09-23T05:07:46.796950Z"
    },
    "tags": []
   },
   "outputs": [
    {
     "name": "stdout",
     "output_type": "stream",
     "text": [
      "El Accuracy para la Data de Entrenamiento es: 0.987\n"
     ]
    }
   ],
   "source": [
    "accuracy_train_nbayes = nbayes_class_train.accuracy().round(3)\n",
    "print(\"El Accuracy para la Data de Entrenamiento es:\", accuracy_train_nbayes)"
   ]
  },
  {
   "cell_type": "markdown",
   "metadata": {
    "tags": []
   },
   "source": [
    "Sensibilidad"
   ]
  },
  {
   "cell_type": "code",
   "execution_count": 85,
   "metadata": {
    "execution": {
     "iopub.execute_input": "2021-09-23T05:07:46.812940Z",
     "iopub.status.busy": "2021-09-23T05:07:46.811942Z",
     "iopub.status.idle": "2021-09-23T05:07:46.825931Z",
     "shell.execute_reply": "2021-09-23T05:07:46.825931Z",
     "shell.execute_reply.started": "2021-09-23T05:07:46.812940Z"
    },
    "tags": []
   },
   "outputs": [
    {
     "name": "stdout",
     "output_type": "stream",
     "text": [
      "La Sensibilidad para la Data de Entrenamiento es: 0.98\n"
     ]
    }
   ],
   "source": [
    "sensibilidad_train_nbayes = nbayes_class_train.sensibility().round(3)\n",
    "print(\n",
    "    \"La Sensibilidad para la Data de Entrenamiento es:\", sensibilidad_train_nbayes\n",
    ")"
   ]
  },
  {
   "cell_type": "markdown",
   "metadata": {
    "tags": []
   },
   "source": [
    "Especificidad"
   ]
  },
  {
   "cell_type": "code",
   "execution_count": 86,
   "metadata": {
    "execution": {
     "iopub.execute_input": "2021-09-23T05:07:46.827931Z",
     "iopub.status.busy": "2021-09-23T05:07:46.827931Z",
     "iopub.status.idle": "2021-09-23T05:07:46.842922Z",
     "shell.execute_reply": "2021-09-23T05:07:46.841923Z",
     "shell.execute_reply.started": "2021-09-23T05:07:46.827931Z"
    },
    "tags": []
   },
   "outputs": [
    {
     "name": "stdout",
     "output_type": "stream",
     "text": [
      "La Especificidad para la Data de Entrenamiento es: 0.993\n"
     ]
    }
   ],
   "source": [
    "especificidad_train_nbayes = nbayes_class_train.specificity().round(3)\n",
    "print(\n",
    "    \"La Especificidad para la Data de Entrenamiento es:\",\n",
    "    especificidad_train_nbayes,\n",
    ")"
   ]
  },
  {
   "cell_type": "markdown",
   "metadata": {
    "tags": []
   },
   "source": [
    "AUC"
   ]
  },
  {
   "cell_type": "code",
   "execution_count": 87,
   "metadata": {
    "execution": {
     "iopub.execute_input": "2021-09-23T05:07:46.844921Z",
     "iopub.status.busy": "2021-09-23T05:07:46.843922Z",
     "iopub.status.idle": "2021-09-23T05:07:46.857912Z",
     "shell.execute_reply": "2021-09-23T05:07:46.856912Z",
     "shell.execute_reply.started": "2021-09-23T05:07:46.844921Z"
    },
    "tags": []
   },
   "outputs": [
    {
     "name": "stdout",
     "output_type": "stream",
     "text": [
      "El area Bajo la Curva(AUC) para Data de Entrenamiento es:  0.987\n"
     ]
    }
   ],
   "source": [
    "auc_train_nbayes = nbayes_class_train.auc().round(3)\n",
    "print(\n",
    "    \"El area Bajo la Curva(AUC) para Data de Entrenamiento es: \",\n",
    "    auc_train_nbayes,\n",
    ")"
   ]
  },
  {
   "cell_type": "markdown",
   "metadata": {
    "tags": []
   },
   "source": [
    "ROC"
   ]
  },
  {
   "cell_type": "code",
   "execution_count": 88,
   "metadata": {
    "execution": {
     "iopub.execute_input": "2021-09-23T05:07:46.858911Z",
     "iopub.status.busy": "2021-09-23T05:07:46.858911Z",
     "iopub.status.idle": "2021-09-23T05:07:47.061115Z",
     "shell.execute_reply": "2021-09-23T05:07:47.061115Z",
     "shell.execute_reply.started": "2021-09-23T05:07:46.858911Z"
    },
    "tags": []
   },
   "outputs": [
    {
     "data": {
      "image/png": "[encoded data removed]",
      "text/plain": [
       "<Figure size 500x500 with 1 Axes>"
      ]
     },
     "metadata": {
      "needs_background": "light"
     },
     "output_type": "display_data"
    }
   ],
   "source": [
    "nbayes_class_train.roc_curve()"
   ]
  },
  {
   "cell_type": "markdown",
   "metadata": {
    "tags": []
   },
   "source": [
    "###### **METRICAS DE DATA DE TESTEO**"
   ]
  },
  {
   "cell_type": "code",
   "execution_count": 89,
   "metadata": {
    "execution": {
     "iopub.execute_input": "2021-09-23T05:07:47.063115Z",
     "iopub.status.busy": "2021-09-23T05:07:47.062115Z",
     "iopub.status.idle": "2021-09-23T05:07:47.949159Z",
     "shell.execute_reply": "2021-09-23T05:07:47.949159Z",
     "shell.execute_reply.started": "2021-09-23T05:07:47.063115Z"
    },
    "tags": []
   },
   "outputs": [
    {
     "data": {
      "text/html": [
       "<div>\n",
       "<style scoped>\n",
       "    .dataframe tbody tr th:only-of-type {\n",
       "        vertical-align: middle;\n",
       "    }\n",
       "\n",
       "    .dataframe tbody tr th {\n",
       "        vertical-align: top;\n",
       "    }\n",
       "\n",
       "    .dataframe thead th {\n",
       "        text-align: right;\n",
       "    }\n",
       "</style>\n",
       "<table border=\"1\" class=\"dataframe\">\n",
       "  <thead>\n",
       "    <tr style=\"text-align: right;\">\n",
       "      <th></th>\n",
       "      <th>prob y=1</th>\n",
       "      <th>prediccion</th>\n",
       "    </tr>\n",
       "  </thead>\n",
       "  <tbody>\n",
       "    <tr>\n",
       "      <th>0</th>\n",
       "      <td>1.0</td>\n",
       "      <td>1</td>\n",
       "    </tr>\n",
       "    <tr>\n",
       "      <th>1</th>\n",
       "      <td>1.0</td>\n",
       "      <td>1</td>\n",
       "    </tr>\n",
       "    <tr>\n",
       "      <th>2</th>\n",
       "      <td>1.0</td>\n",
       "      <td>1</td>\n",
       "    </tr>\n",
       "    <tr>\n",
       "      <th>3</th>\n",
       "      <td>1.0</td>\n",
       "      <td>1</td>\n",
       "    </tr>\n",
       "    <tr>\n",
       "      <th>4</th>\n",
       "      <td>1.0</td>\n",
       "      <td>1</td>\n",
       "    </tr>\n",
       "  </tbody>\n",
       "</table>\n",
       "</div>"
      ],
      "text/plain": [
       "   prob y=1  prediccion\n",
       "0       1.0           1\n",
       "1       1.0           1\n",
       "2       1.0           1\n",
       "3       1.0           1\n",
       "4       1.0           1"
      ]
     },
     "execution_count": 89,
     "metadata": {},
     "output_type": "execute_result"
    }
   ],
   "source": [
    "prob_df_test_nbayes = prediccion(nbayes, xtest)\n",
    "prob_df_test_nbayes.head()"
   ]
  },
  {
   "cell_type": "code",
   "execution_count": 90,
   "metadata": {
    "execution": {
     "iopub.execute_input": "2021-09-23T05:07:47.951158Z",
     "iopub.status.busy": "2021-09-23T05:07:47.951158Z",
     "iopub.status.idle": "2021-09-23T05:07:51.679169Z",
     "shell.execute_reply": "2021-09-23T05:07:51.679169Z",
     "shell.execute_reply.started": "2021-09-23T05:07:47.951158Z"
    },
    "tags": []
   },
   "outputs": [
    {
     "name": "stdout",
     "output_type": "stream",
     "text": [
      "              precision    recall  f1-score   support\n",
      "\n",
      "           1       0.00      0.98      0.00      2464\n",
      "           0       1.00      0.12      0.21   1906322\n",
      "\n",
      "    accuracy                           0.12   1908786\n",
      "   macro avg       0.50      0.55      0.11   1908786\n",
      "weighted avg       1.00      0.12      0.21   1908786\n",
      "\n"
     ]
    }
   ],
   "source": [
    "meu.display_classification_report(ytest, prob_df_test_nbayes[\"prediccion\"])"
   ]
  },
  {
   "cell_type": "code",
   "execution_count": 91,
   "metadata": {
    "execution": {
     "iopub.execute_input": "2021-09-23T05:07:51.681168Z",
     "iopub.status.busy": "2021-09-23T05:07:51.680168Z",
     "iopub.status.idle": "2021-09-23T05:07:51.712149Z",
     "shell.execute_reply": "2021-09-23T05:07:51.711149Z",
     "shell.execute_reply.started": "2021-09-23T05:07:51.681168Z"
    },
    "tags": []
   },
   "outputs": [
    {
     "data": {
      "text/plain": [
       "1    1681303\n",
       "0     227483\n",
       "Name: prediccion, dtype: int64"
      ]
     },
     "execution_count": 91,
     "metadata": {},
     "output_type": "execute_result"
    }
   ],
   "source": [
    "pd.value_counts(prob_df_test_nbayes.prediccion)"
   ]
  },
  {
   "cell_type": "code",
   "execution_count": 92,
   "metadata": {
    "execution": {
     "iopub.execute_input": "2021-09-23T05:07:51.713148Z",
     "iopub.status.busy": "2021-09-23T05:07:51.713148Z",
     "iopub.status.idle": "2021-09-23T05:07:53.778989Z",
     "shell.execute_reply": "2021-09-23T05:07:53.778989Z",
     "shell.execute_reply.started": "2021-09-23T05:07:51.713148Z"
    },
    "tags": []
   },
   "outputs": [
    {
     "name": "stdout",
     "output_type": "stream",
     "text": [
      "<class 'numpy.ndarray'> <class 'numpy.ndarray'>\n"
     ]
    }
   ],
   "source": [
    "nbayes_class_test = metricas(ytest, prob_df_test_nbayes[\"prediccion\"], \"NaiveBayes\", \"testeo\")"
   ]
  },
  {
   "cell_type": "markdown",
   "metadata": {
    "tags": []
   },
   "source": [
    "Accuracy"
   ]
  },
  {
   "cell_type": "code",
   "execution_count": 93,
   "metadata": {
    "execution": {
     "iopub.execute_input": "2021-09-23T05:07:53.780989Z",
     "iopub.status.busy": "2021-09-23T05:07:53.779989Z",
     "iopub.status.idle": "2021-09-23T05:07:53.795979Z",
     "shell.execute_reply": "2021-09-23T05:07:53.794981Z",
     "shell.execute_reply.started": "2021-09-23T05:07:53.780989Z"
    },
    "tags": []
   },
   "outputs": [
    {
     "name": "stdout",
     "output_type": "stream",
     "text": [
      "El Accuracy para la Data de Entrenamiento es: 0.12\n"
     ]
    }
   ],
   "source": [
    "accuracy_test_nbayes = nbayes_class_test.accuracy().round(3)\n",
    "print(\"El Accuracy para la Data de Entrenamiento es:\", accuracy_test_nbayes)"
   ]
  },
  {
   "cell_type": "markdown",
   "metadata": {
    "tags": []
   },
   "source": [
    "Sensibilidad"
   ]
  },
  {
   "cell_type": "code",
   "execution_count": 94,
   "metadata": {
    "execution": {
     "iopub.execute_input": "2021-09-23T05:07:53.797981Z",
     "iopub.status.busy": "2021-09-23T05:07:53.797981Z",
     "iopub.status.idle": "2021-09-23T05:07:53.810970Z",
     "shell.execute_reply": "2021-09-23T05:07:53.810970Z",
     "shell.execute_reply.started": "2021-09-23T05:07:53.797981Z"
    },
    "tags": []
   },
   "outputs": [
    {
     "name": "stdout",
     "output_type": "stream",
     "text": [
      "La Sensibilidad para la Data de Entrenamiento es: 0.982\n"
     ]
    }
   ],
   "source": [
    "sensibilidad_test_nbayes = nbayes_class_test.sensibility().round(3)\n",
    "print(\n",
    "    \"La Sensibilidad para la Data de Entrenamiento es:\", sensibilidad_test_nbayes\n",
    ")"
   ]
  },
  {
   "cell_type": "markdown",
   "metadata": {
    "tags": []
   },
   "source": [
    "Especificidad"
   ]
  },
  {
   "cell_type": "code",
   "execution_count": 95,
   "metadata": {
    "execution": {
     "iopub.execute_input": "2021-09-23T05:07:53.812970Z",
     "iopub.status.busy": "2021-09-23T05:07:53.812970Z",
     "iopub.status.idle": "2021-09-23T05:07:53.827961Z",
     "shell.execute_reply": "2021-09-23T05:07:53.826962Z",
     "shell.execute_reply.started": "2021-09-23T05:07:53.812970Z"
    },
    "tags": []
   },
   "outputs": [
    {
     "name": "stdout",
     "output_type": "stream",
     "text": [
      "La Especificidad para la Data de Entrenamiento es: 0.119\n"
     ]
    }
   ],
   "source": [
    "especificidad_test_nbayes = nbayes_class_test.specificity().round(3)\n",
    "print(\n",
    "    \"La Especificidad para la Data de Entrenamiento es:\",\n",
    "    especificidad_test_nbayes,\n",
    ")"
   ]
  },
  {
   "cell_type": "markdown",
   "metadata": {
    "jp-MarkdownHeadingCollapsed": true,
    "tags": []
   },
   "source": [
    "AUC"
   ]
  },
  {
   "cell_type": "code",
   "execution_count": 96,
   "metadata": {
    "execution": {
     "iopub.execute_input": "2021-09-23T05:07:53.828959Z",
     "iopub.status.busy": "2021-09-23T05:07:53.828959Z",
     "iopub.status.idle": "2021-09-23T05:07:53.841952Z",
     "shell.execute_reply": "2021-09-23T05:07:53.841952Z",
     "shell.execute_reply.started": "2021-09-23T05:07:53.828959Z"
    },
    "tags": []
   },
   "outputs": [
    {
     "name": "stdout",
     "output_type": "stream",
     "text": [
      "El area Bajo la Curva(AUC) para Data de Entrenamiento es:  0.551\n"
     ]
    }
   ],
   "source": [
    "# Para calcular de la curva ROC y AUC, la función roc_curve exige que las categorias sean 0 y 1\n",
    "auc_test_nbayes = nbayes_class_test.auc().round(3)\n",
    "print(\n",
    "    \"El area Bajo la Curva(AUC) para Data de Entrenamiento es: \",\n",
    "    auc_test_nbayes,\n",
    ")"
   ]
  },
  {
   "cell_type": "markdown",
   "metadata": {
    "tags": []
   },
   "source": [
    "ROC"
   ]
  },
  {
   "cell_type": "code",
   "execution_count": 97,
   "metadata": {
    "execution": {
     "iopub.execute_input": "2021-09-23T05:07:53.843950Z",
     "iopub.status.busy": "2021-09-23T05:07:53.843950Z",
     "iopub.status.idle": "2021-09-23T05:07:54.030438Z",
     "shell.execute_reply": "2021-09-23T05:07:54.029438Z",
     "shell.execute_reply.started": "2021-09-23T05:07:53.843950Z"
    },
    "tags": []
   },
   "outputs": [
    {
     "data": {
      "image/png": "[encoded data removed]",
      "text/plain": [
       "<Figure size 500x500 with 1 Axes>"
      ]
     },
     "metadata": {
      "needs_background": "light"
     },
     "output_type": "display_data"
    }
   ],
   "source": [
    "nbayes_class_test.roc_curve()"
   ]
  },
  {
   "cell_type": "markdown",
   "metadata": {
    "tags": []
   },
   "source": [
    "##### **7.4 RedesNeuronales**"
   ]
  },
  {
   "cell_type": "markdown",
   "metadata": {
    "tags": []
   },
   "source": [
    "###### **METRICAS DE DATA DE ENTRENAMIENTO**"
   ]
  },
  {
   "cell_type": "code",
   "execution_count": 98,
   "metadata": {
    "execution": {
     "iopub.execute_input": "2021-09-23T05:07:54.034435Z",
     "iopub.status.busy": "2021-09-23T05:07:54.033435Z",
     "iopub.status.idle": "2021-09-23T05:07:54.076407Z",
     "shell.execute_reply": "2021-09-23T05:07:54.076407Z",
     "shell.execute_reply.started": "2021-09-23T05:07:54.034435Z"
    },
    "tags": []
   },
   "outputs": [
    {
     "data": {
      "text/html": [
       "<div>\n",
       "<style scoped>\n",
       "    .dataframe tbody tr th:only-of-type {\n",
       "        vertical-align: middle;\n",
       "    }\n",
       "\n",
       "    .dataframe tbody tr th {\n",
       "        vertical-align: top;\n",
       "    }\n",
       "\n",
       "    .dataframe thead th {\n",
       "        text-align: right;\n",
       "    }\n",
       "</style>\n",
       "<table border=\"1\" class=\"dataframe\">\n",
       "  <thead>\n",
       "    <tr style=\"text-align: right;\">\n",
       "      <th></th>\n",
       "      <th>prob y=1</th>\n",
       "      <th>prediccion</th>\n",
       "    </tr>\n",
       "  </thead>\n",
       "  <tbody>\n",
       "    <tr>\n",
       "      <th>0</th>\n",
       "      <td>1.0</td>\n",
       "      <td>1</td>\n",
       "    </tr>\n",
       "    <tr>\n",
       "      <th>1</th>\n",
       "      <td>1.0</td>\n",
       "      <td>1</td>\n",
       "    </tr>\n",
       "    <tr>\n",
       "      <th>2</th>\n",
       "      <td>1.0</td>\n",
       "      <td>1</td>\n",
       "    </tr>\n",
       "    <tr>\n",
       "      <th>3</th>\n",
       "      <td>1.0</td>\n",
       "      <td>1</td>\n",
       "    </tr>\n",
       "    <tr>\n",
       "      <th>4</th>\n",
       "      <td>1.0</td>\n",
       "      <td>1</td>\n",
       "    </tr>\n",
       "  </tbody>\n",
       "</table>\n",
       "</div>"
      ],
      "text/plain": [
       "   prob y=1  prediccion\n",
       "0       1.0           1\n",
       "1       1.0           1\n",
       "2       1.0           1\n",
       "3       1.0           1\n",
       "4       1.0           1"
      ]
     },
     "execution_count": 98,
     "metadata": {},
     "output_type": "execute_result"
    }
   ],
   "source": [
    "prob_df_train_neuronal = prediccion(neuronal, xtrain_us)\n",
    "prob_df_train_neuronal.head()"
   ]
  },
  {
   "cell_type": "code",
   "execution_count": 99,
   "metadata": {
    "execution": {
     "iopub.execute_input": "2021-09-23T05:07:54.079406Z",
     "iopub.status.busy": "2021-09-23T05:07:54.078406Z",
     "iopub.status.idle": "2021-09-23T05:07:54.107389Z",
     "shell.execute_reply": "2021-09-23T05:07:54.107389Z",
     "shell.execute_reply.started": "2021-09-23T05:07:54.079406Z"
    },
    "tags": []
   },
   "outputs": [
    {
     "name": "stdout",
     "output_type": "stream",
     "text": [
      "              precision    recall  f1-score   support\n",
      "\n",
      "           1       0.89      1.00      0.94      5749\n",
      "           0       1.00      0.90      0.95      7186\n",
      "\n",
      "    accuracy                           0.94     12935\n",
      "   macro avg       0.94      0.95      0.94     12935\n",
      "weighted avg       0.95      0.94      0.94     12935\n",
      "\n"
     ]
    }
   ],
   "source": [
    "meu.display_classification_report(ytrain_us, prob_df_train_neuronal[\"prediccion\"])"
   ]
  },
  {
   "cell_type": "code",
   "execution_count": 100,
   "metadata": {
    "execution": {
     "iopub.execute_input": "2021-09-23T05:07:54.109388Z",
     "iopub.status.busy": "2021-09-23T05:07:54.109388Z",
     "iopub.status.idle": "2021-09-23T05:07:54.123378Z",
     "shell.execute_reply": "2021-09-23T05:07:54.123378Z",
     "shell.execute_reply.started": "2021-09-23T05:07:54.109388Z"
    },
    "tags": []
   },
   "outputs": [
    {
     "data": {
      "text/plain": [
       "0    6469\n",
       "1    6466\n",
       "Name: prediccion, dtype: int64"
      ]
     },
     "execution_count": 100,
     "metadata": {},
     "output_type": "execute_result"
    }
   ],
   "source": [
    "pd.value_counts(prob_df_train_neuronal.prediccion)"
   ]
  },
  {
   "cell_type": "code",
   "execution_count": 101,
   "metadata": {
    "execution": {
     "iopub.execute_input": "2021-09-23T05:07:54.125377Z",
     "iopub.status.busy": "2021-09-23T05:07:54.125377Z",
     "iopub.status.idle": "2021-09-23T05:07:54.155358Z",
     "shell.execute_reply": "2021-09-23T05:07:54.155358Z",
     "shell.execute_reply.started": "2021-09-23T05:07:54.125377Z"
    },
    "tags": []
   },
   "outputs": [
    {
     "name": "stdout",
     "output_type": "stream",
     "text": [
      "<class 'numpy.ndarray'> <class 'numpy.ndarray'>\n"
     ]
    }
   ],
   "source": [
    "neuronal_class_train = metricas(ytrain_us, prob_df_train_neuronal[\"prediccion\"], \"NeuralNetwork\", \"entrenamiento\")"
   ]
  },
  {
   "cell_type": "markdown",
   "metadata": {
    "tags": []
   },
   "source": [
    "Accuracy"
   ]
  },
  {
   "cell_type": "code",
   "execution_count": 102,
   "metadata": {
    "execution": {
     "iopub.execute_input": "2021-09-23T05:07:54.157357Z",
     "iopub.status.busy": "2021-09-23T05:07:54.157357Z",
     "iopub.status.idle": "2021-09-23T05:07:54.171349Z",
     "shell.execute_reply": "2021-09-23T05:07:54.171349Z",
     "shell.execute_reply.started": "2021-09-23T05:07:54.157357Z"
    },
    "tags": []
   },
   "outputs": [
    {
     "name": "stdout",
     "output_type": "stream",
     "text": [
      "El Accuracy para la Data de Entrenamiento es: 0.944\n"
     ]
    }
   ],
   "source": [
    "accuracy_train_neuronal = neuronal_class_train.accuracy().round(3)\n",
    "print(\"El Accuracy para la Data de Entrenamiento es:\", accuracy_train_neuronal)"
   ]
  },
  {
   "cell_type": "markdown",
   "metadata": {},
   "source": [
    "Sensibilidad"
   ]
  },
  {
   "cell_type": "code",
   "execution_count": 103,
   "metadata": {
    "execution": {
     "iopub.execute_input": "2021-09-23T05:07:54.173347Z",
     "iopub.status.busy": "2021-09-23T05:07:54.173347Z",
     "iopub.status.idle": "2021-09-23T05:07:54.187338Z",
     "shell.execute_reply": "2021-09-23T05:07:54.187338Z",
     "shell.execute_reply.started": "2021-09-23T05:07:54.173347Z"
    },
    "tags": []
   },
   "outputs": [
    {
     "name": "stdout",
     "output_type": "stream",
     "text": [
      "La Sensibilidad para la Data de Entrenamiento es: 0.999\n"
     ]
    }
   ],
   "source": [
    "sensibilidad_train_neuronal = neuronal_class_train.sensibility().round(3)\n",
    "print(\n",
    "    \"La Sensibilidad para la Data de Entrenamiento es:\", sensibilidad_train_neuronal\n",
    ")"
   ]
  },
  {
   "cell_type": "markdown",
   "metadata": {},
   "source": [
    "Especificidad"
   ]
  },
  {
   "cell_type": "code",
   "execution_count": 104,
   "metadata": {
    "execution": {
     "iopub.execute_input": "2021-09-23T05:07:54.189338Z",
     "iopub.status.busy": "2021-09-23T05:07:54.189338Z",
     "iopub.status.idle": "2021-09-23T05:07:54.203329Z",
     "shell.execute_reply": "2021-09-23T05:07:54.203329Z",
     "shell.execute_reply.started": "2021-09-23T05:07:54.189338Z"
    },
    "tags": []
   },
   "outputs": [
    {
     "name": "stdout",
     "output_type": "stream",
     "text": [
      "La Especificidad para la Data de Entrenamiento es: 0.9\n"
     ]
    }
   ],
   "source": [
    "especificidad_train_neuronal = neuronal_class_train.specificity().round(3)\n",
    "print(\n",
    "    \"La Especificidad para la Data de Entrenamiento es:\",\n",
    "    especificidad_train_neuronal,\n",
    ")"
   ]
  },
  {
   "cell_type": "markdown",
   "metadata": {},
   "source": [
    "AUC"
   ]
  },
  {
   "cell_type": "code",
   "execution_count": 105,
   "metadata": {
    "execution": {
     "iopub.execute_input": "2021-09-23T05:07:54.205327Z",
     "iopub.status.busy": "2021-09-23T05:07:54.205327Z",
     "iopub.status.idle": "2021-09-23T05:07:54.219319Z",
     "shell.execute_reply": "2021-09-23T05:07:54.219319Z",
     "shell.execute_reply.started": "2021-09-23T05:07:54.205327Z"
    },
    "tags": []
   },
   "outputs": [
    {
     "name": "stdout",
     "output_type": "stream",
     "text": [
      "El area Bajo la Curva(AUC) para Data de Entrenamiento es:  0.95\n"
     ]
    }
   ],
   "source": [
    "auc_train_neuronal = neuronal_class_train.auc().round(3)\n",
    "print(\n",
    "    \"El area Bajo la Curva(AUC) para Data de Entrenamiento es: \",\n",
    "    auc_train_neuronal,\n",
    ")"
   ]
  },
  {
   "cell_type": "markdown",
   "metadata": {},
   "source": [
    "ROC"
   ]
  },
  {
   "cell_type": "code",
   "execution_count": 106,
   "metadata": {
    "execution": {
     "iopub.execute_input": "2021-09-23T05:07:54.221318Z",
     "iopub.status.busy": "2021-09-23T05:07:54.221318Z",
     "iopub.status.idle": "2021-09-23T05:07:54.408203Z",
     "shell.execute_reply": "2021-09-23T05:07:54.408203Z",
     "shell.execute_reply.started": "2021-09-23T05:07:54.221318Z"
    },
    "tags": []
   },
   "outputs": [
    {
     "data": {
      "image/png": "[encoded data removed]",
      "text/plain": [
       "<Figure size 500x500 with 1 Axes>"
      ]
     },
     "metadata": {
      "needs_background": "light"
     },
     "output_type": "display_data"
    }
   ],
   "source": [
    "neuronal_class_train.roc_curve()"
   ]
  },
  {
   "cell_type": "markdown",
   "metadata": {
    "tags": []
   },
   "source": [
    "###### **METRICAS DE DATA DE TESTEO**"
   ]
  },
  {
   "cell_type": "code",
   "execution_count": 107,
   "metadata": {
    "execution": {
     "iopub.execute_input": "2021-09-23T05:07:54.410202Z",
     "iopub.status.busy": "2021-09-23T05:07:54.409202Z",
     "iopub.status.idle": "2021-09-23T05:07:56.812441Z",
     "shell.execute_reply": "2021-09-23T05:07:56.812441Z",
     "shell.execute_reply.started": "2021-09-23T05:07:54.410202Z"
    },
    "tags": []
   },
   "outputs": [
    {
     "data": {
      "text/html": [
       "<div>\n",
       "<style scoped>\n",
       "    .dataframe tbody tr th:only-of-type {\n",
       "        vertical-align: middle;\n",
       "    }\n",
       "\n",
       "    .dataframe tbody tr th {\n",
       "        vertical-align: top;\n",
       "    }\n",
       "\n",
       "    .dataframe thead th {\n",
       "        text-align: right;\n",
       "    }\n",
       "</style>\n",
       "<table border=\"1\" class=\"dataframe\">\n",
       "  <thead>\n",
       "    <tr style=\"text-align: right;\">\n",
       "      <th></th>\n",
       "      <th>prob y=1</th>\n",
       "      <th>prediccion</th>\n",
       "    </tr>\n",
       "  </thead>\n",
       "  <tbody>\n",
       "    <tr>\n",
       "      <th>0</th>\n",
       "      <td>1.0</td>\n",
       "      <td>1</td>\n",
       "    </tr>\n",
       "    <tr>\n",
       "      <th>1</th>\n",
       "      <td>1.0</td>\n",
       "      <td>1</td>\n",
       "    </tr>\n",
       "    <tr>\n",
       "      <th>2</th>\n",
       "      <td>1.0</td>\n",
       "      <td>1</td>\n",
       "    </tr>\n",
       "    <tr>\n",
       "      <th>3</th>\n",
       "      <td>1.0</td>\n",
       "      <td>1</td>\n",
       "    </tr>\n",
       "    <tr>\n",
       "      <th>4</th>\n",
       "      <td>1.0</td>\n",
       "      <td>1</td>\n",
       "    </tr>\n",
       "  </tbody>\n",
       "</table>\n",
       "</div>"
      ],
      "text/plain": [
       "   prob y=1  prediccion\n",
       "0       1.0           1\n",
       "1       1.0           1\n",
       "2       1.0           1\n",
       "3       1.0           1\n",
       "4       1.0           1"
      ]
     },
     "execution_count": 107,
     "metadata": {},
     "output_type": "execute_result"
    }
   ],
   "source": [
    "prob_df_test_neuronal = prediccion(neuronal, xtest)\n",
    "prob_df_test_neuronal.head()"
   ]
  },
  {
   "cell_type": "code",
   "execution_count": 108,
   "metadata": {
    "execution": {
     "iopub.execute_input": "2021-09-23T05:07:56.814439Z",
     "iopub.status.busy": "2021-09-23T05:07:56.813440Z",
     "iopub.status.idle": "2021-09-23T05:08:00.413549Z",
     "shell.execute_reply": "2021-09-23T05:08:00.413549Z",
     "shell.execute_reply.started": "2021-09-23T05:07:56.814439Z"
    },
    "tags": []
   },
   "outputs": [
    {
     "name": "stdout",
     "output_type": "stream",
     "text": [
      "              precision    recall  f1-score   support\n",
      "\n",
      "           1       0.00      1.00      0.00      2464\n",
      "           0       1.00      0.14      0.25   1906322\n",
      "\n",
      "    accuracy                           0.14   1908786\n",
      "   macro avg       0.50      0.57      0.13   1908786\n",
      "weighted avg       1.00      0.14      0.25   1908786\n",
      "\n"
     ]
    }
   ],
   "source": [
    "meu.display_classification_report(ytest, prob_df_test_neuronal[\"prediccion\"])"
   ]
  },
  {
   "cell_type": "code",
   "execution_count": 109,
   "metadata": {
    "execution": {
     "iopub.execute_input": "2021-09-23T05:08:00.415548Z",
     "iopub.status.busy": "2021-09-23T05:08:00.414547Z",
     "iopub.status.idle": "2021-09-23T05:08:00.446528Z",
     "shell.execute_reply": "2021-09-23T05:08:00.445529Z",
     "shell.execute_reply.started": "2021-09-23T05:08:00.415548Z"
    },
    "tags": []
   },
   "outputs": [
    {
     "data": {
      "text/plain": [
       "1    1637909\n",
       "0     270877\n",
       "Name: prediccion, dtype: int64"
      ]
     },
     "execution_count": 109,
     "metadata": {},
     "output_type": "execute_result"
    }
   ],
   "source": [
    "pd.value_counts(prob_df_test_neuronal.prediccion)"
   ]
  },
  {
   "cell_type": "code",
   "execution_count": 110,
   "metadata": {
    "execution": {
     "iopub.execute_input": "2021-09-23T05:08:00.448528Z",
     "iopub.status.busy": "2021-09-23T05:08:00.447529Z",
     "iopub.status.idle": "2021-09-23T05:08:02.271824Z",
     "shell.execute_reply": "2021-09-23T05:08:02.271824Z",
     "shell.execute_reply.started": "2021-09-23T05:08:00.448528Z"
    },
    "tags": []
   },
   "outputs": [
    {
     "name": "stdout",
     "output_type": "stream",
     "text": [
      "<class 'numpy.ndarray'> <class 'numpy.ndarray'>\n"
     ]
    }
   ],
   "source": [
    "neuronal_class_test = metricas(ytest, prob_df_test_neuronal[\"prediccion\"], \"NeuronalNetwork\", \"testeo\")"
   ]
  },
  {
   "cell_type": "markdown",
   "metadata": {},
   "source": [
    "Accuracy"
   ]
  },
  {
   "cell_type": "code",
   "execution_count": 111,
   "metadata": {
    "execution": {
     "iopub.execute_input": "2021-09-23T05:08:02.273822Z",
     "iopub.status.busy": "2021-09-23T05:08:02.272823Z",
     "iopub.status.idle": "2021-09-23T05:08:02.287814Z",
     "shell.execute_reply": "2021-09-23T05:08:02.287814Z",
     "shell.execute_reply.started": "2021-09-23T05:08:02.273822Z"
    },
    "tags": []
   },
   "outputs": [
    {
     "name": "stdout",
     "output_type": "stream",
     "text": [
      "El Accuracy para la Data de Entrenamiento es: 0.143\n"
     ]
    }
   ],
   "source": [
    "accuracy_test_neuronal = neuronal_class_test.accuracy().round(3)\n",
    "print(\"El Accuracy para la Data de Entrenamiento es:\", accuracy_test_neuronal)"
   ]
  },
  {
   "cell_type": "markdown",
   "metadata": {},
   "source": [
    "Sensibilidad"
   ]
  },
  {
   "cell_type": "code",
   "execution_count": 112,
   "metadata": {
    "execution": {
     "iopub.execute_input": "2021-09-23T05:08:02.289812Z",
     "iopub.status.busy": "2021-09-23T05:08:02.289812Z",
     "iopub.status.idle": "2021-09-23T05:08:02.303805Z",
     "shell.execute_reply": "2021-09-23T05:08:02.303805Z",
     "shell.execute_reply.started": "2021-09-23T05:08:02.289812Z"
    },
    "tags": []
   },
   "outputs": [
    {
     "name": "stdout",
     "output_type": "stream",
     "text": [
      "La Sensibilidad para la Data de Entrenamiento es: 0.999\n"
     ]
    }
   ],
   "source": [
    "sensibilidad_test_neuronal = neuronal_class_test.sensibility().round(3)\n",
    "print(\n",
    "    \"La Sensibilidad para la Data de Entrenamiento es:\", sensibilidad_test_neuronal\n",
    ")"
   ]
  },
  {
   "cell_type": "markdown",
   "metadata": {},
   "source": [
    "Especificidad"
   ]
  },
  {
   "cell_type": "code",
   "execution_count": 113,
   "metadata": {
    "execution": {
     "iopub.execute_input": "2021-09-23T05:08:02.305802Z",
     "iopub.status.busy": "2021-09-23T05:08:02.305802Z",
     "iopub.status.idle": "2021-09-23T05:08:02.320794Z",
     "shell.execute_reply": "2021-09-23T05:08:02.319795Z",
     "shell.execute_reply.started": "2021-09-23T05:08:02.305802Z"
    },
    "tags": []
   },
   "outputs": [
    {
     "name": "stdout",
     "output_type": "stream",
     "text": [
      "La Especificidad para la Data de Entrenamiento es: 0.142\n"
     ]
    }
   ],
   "source": [
    "especificidad_test_neuronal = neuronal_class_test.specificity().round(3)\n",
    "print(\n",
    "    \"La Especificidad para la Data de Entrenamiento es:\",\n",
    "    especificidad_test_neuronal,\n",
    ")"
   ]
  },
  {
   "cell_type": "markdown",
   "metadata": {},
   "source": [
    "AUC"
   ]
  },
  {
   "cell_type": "code",
   "execution_count": 114,
   "metadata": {
    "execution": {
     "iopub.execute_input": "2021-09-23T05:08:02.321794Z",
     "iopub.status.busy": "2021-09-23T05:08:02.321794Z",
     "iopub.status.idle": "2021-09-23T05:08:02.335785Z",
     "shell.execute_reply": "2021-09-23T05:08:02.335785Z",
     "shell.execute_reply.started": "2021-09-23T05:08:02.321794Z"
    },
    "tags": []
   },
   "outputs": [
    {
     "name": "stdout",
     "output_type": "stream",
     "text": [
      "El area Bajo la Curva(AUC) para Data de Entrenamiento es:  0.57\n"
     ]
    }
   ],
   "source": [
    "# Para calcular de la curva ROC y AUC, la función roc_curve exige que las categorias sean 0 y 1\n",
    "auc_test_neuronal = neuronal_class_test.auc().round(3)\n",
    "print(\n",
    "    \"El area Bajo la Curva(AUC) para Data de Entrenamiento es: \",\n",
    "    auc_test_neuronal,\n",
    ")"
   ]
  },
  {
   "cell_type": "markdown",
   "metadata": {},
   "source": [
    "ROC"
   ]
  },
  {
   "cell_type": "code",
   "execution_count": 115,
   "metadata": {
    "execution": {
     "iopub.execute_input": "2021-09-23T05:08:02.336785Z",
     "iopub.status.busy": "2021-09-23T05:08:02.336785Z",
     "iopub.status.idle": "2021-09-23T05:08:02.525694Z",
     "shell.execute_reply": "2021-09-23T05:08:02.525694Z",
     "shell.execute_reply.started": "2021-09-23T05:08:02.336785Z"
    },
    "tags": []
   },
   "outputs": [
    {
     "data": {
      "image/png": "[encoded data removed]",
      "text/plain": [
       "<Figure size 500x500 with 1 Axes>"
      ]
     },
     "metadata": {
      "needs_background": "light"
     },
     "output_type": "display_data"
    }
   ],
   "source": [
    "neuronal_class_test.roc_curve()"
   ]
  },
  {
   "cell_type": "markdown",
   "metadata": {
    "tags": []
   },
   "source": [
    "##### **7.5 Comparación**"
   ]
  },
  {
   "cell_type": "markdown",
   "metadata": {
    "jp-MarkdownHeadingCollapsed": true,
    "tags": []
   },
   "source": [
    "Resumen de los modelos de la data de entrenamiento"
   ]
  },
  {
   "cell_type": "code",
   "execution_count": 116,
   "metadata": {
    "execution": {
     "iopub.execute_input": "2021-09-23T05:08:02.526697Z",
     "iopub.status.busy": "2021-09-23T05:08:02.526697Z",
     "iopub.status.idle": "2021-09-23T05:08:02.542687Z",
     "shell.execute_reply": "2021-09-23T05:08:02.541688Z",
     "shell.execute_reply.started": "2021-09-23T05:08:02.526697Z"
    },
    "tags": []
   },
   "outputs": [],
   "source": [
    "accuracy_train = [accuracy_train_tree, accuracy_train_rf, accuracy_train_nbayes, accuracy_train_neuronal]    \n",
    "accuracy_test = [accuracy_test_tree, accuracy_test_rf, accuracy_test_nbayes, accuracy_test_neuronal]"
   ]
  },
  {
   "cell_type": "code",
   "execution_count": 117,
   "metadata": {
    "execution": {
     "iopub.execute_input": "2021-09-23T05:08:02.544686Z",
     "iopub.status.busy": "2021-09-23T05:08:02.543687Z",
     "iopub.status.idle": "2021-09-23T05:08:02.557677Z",
     "shell.execute_reply": "2021-09-23T05:08:02.557677Z",
     "shell.execute_reply.started": "2021-09-23T05:08:02.544686Z"
    },
    "tags": []
   },
   "outputs": [],
   "source": [
    "sensibilidad_train = [sensibilidad_train_tree, sensibilidad_train_rf, sensibilidad_train_nbayes, sensibilidad_train_neuronal]\n",
    "sensibilidad_test = [sensibilidad_test_tree, sensibilidad_test_rf, sensibilidad_test_nbayes, sensibilidad_test_neuronal]"
   ]
  },
  {
   "cell_type": "code",
   "execution_count": 118,
   "metadata": {
    "execution": {
     "iopub.execute_input": "2021-09-23T05:08:02.559677Z",
     "iopub.status.busy": "2021-09-23T05:08:02.559677Z",
     "iopub.status.idle": "2021-09-23T05:08:02.573669Z",
     "shell.execute_reply": "2021-09-23T05:08:02.573669Z",
     "shell.execute_reply.started": "2021-09-23T05:08:02.559677Z"
    },
    "tags": []
   },
   "outputs": [],
   "source": [
    "especificidad_train = [\n",
    "    especificidad_train_tree,\n",
    "    especificidad_train_rf,\n",
    "    especificidad_train_nbayes,\n",
    "    especificidad_train_neuronal,\n",
    "]\n",
    "especificidad_test = [\n",
    "    especificidad_test_tree,\n",
    "    especificidad_test_rf,\n",
    "    especificidad_test_nbayes,\n",
    "    especificidad_test_neuronal,\n",
    "]"
   ]
  },
  {
   "cell_type": "code",
   "execution_count": 119,
   "metadata": {
    "execution": {
     "iopub.execute_input": "2021-09-23T05:08:02.575668Z",
     "iopub.status.busy": "2021-09-23T05:08:02.574668Z",
     "iopub.status.idle": "2021-09-23T05:08:02.588660Z",
     "shell.execute_reply": "2021-09-23T05:08:02.588660Z",
     "shell.execute_reply.started": "2021-09-23T05:08:02.575668Z"
    },
    "tags": []
   },
   "outputs": [],
   "source": [
    "auc_train = [auc_train_tree, auc_train_rf, auc_train_nbayes, auc_train_neuronal]\n",
    "auc_test = [auc_test_tree, auc_test_rf, auc_test_nbayes, auc_test_neuronal]"
   ]
  },
  {
   "cell_type": "code",
   "execution_count": 120,
   "metadata": {
    "execution": {
     "iopub.execute_input": "2021-09-23T05:08:02.590659Z",
     "iopub.status.busy": "2021-09-23T05:08:02.590659Z",
     "iopub.status.idle": "2021-09-23T05:08:02.604650Z",
     "shell.execute_reply": "2021-09-23T05:08:02.604650Z",
     "shell.execute_reply.started": "2021-09-23T05:08:02.590659Z"
    },
    "tags": []
   },
   "outputs": [],
   "source": [
    "modelo = [\"Arbol de decisión\", \"Random Forest\", \"Naive Bayes\", \"Redes Neuronales\"]"
   ]
  },
  {
   "cell_type": "code",
   "execution_count": 121,
   "metadata": {
    "execution": {
     "iopub.execute_input": "2021-09-23T05:08:02.621639Z",
     "iopub.status.busy": "2021-09-23T05:08:02.620639Z",
     "iopub.status.idle": "2021-09-23T05:08:02.635631Z",
     "shell.execute_reply": "2021-09-23T05:08:02.635631Z",
     "shell.execute_reply.started": "2021-09-23T05:08:02.621639Z"
    },
    "tags": []
   },
   "outputs": [],
   "source": [
    "data_type_train = [\"train\" for i in range(4)]\n",
    "data_type_test = [\"test\" for i in range(4)]"
   ]
  },
  {
   "cell_type": "code",
   "execution_count": 122,
   "metadata": {
    "execution": {
     "iopub.execute_input": "2021-09-23T05:08:02.637629Z",
     "iopub.status.busy": "2021-09-23T05:08:02.637629Z",
     "iopub.status.idle": "2021-09-23T05:08:02.652622Z",
     "shell.execute_reply": "2021-09-23T05:08:02.651620Z",
     "shell.execute_reply.started": "2021-09-23T05:08:02.637629Z"
    },
    "tags": []
   },
   "outputs": [
    {
     "data": {
      "text/html": [
       "<div>\n",
       "<style scoped>\n",
       "    .dataframe tbody tr th:only-of-type {\n",
       "        vertical-align: middle;\n",
       "    }\n",
       "\n",
       "    .dataframe tbody tr th {\n",
       "        vertical-align: top;\n",
       "    }\n",
       "\n",
       "    .dataframe thead th {\n",
       "        text-align: right;\n",
       "    }\n",
       "</style>\n",
       "<table border=\"1\" class=\"dataframe\">\n",
       "  <thead>\n",
       "    <tr style=\"text-align: right;\">\n",
       "      <th></th>\n",
       "      <th>Accuracy</th>\n",
       "      <th>Sensibilidad</th>\n",
       "      <th>Especificidad</th>\n",
       "      <th>AUC</th>\n",
       "    </tr>\n",
       "  </thead>\n",
       "  <tbody>\n",
       "    <tr>\n",
       "      <th>Arbol de decisión</th>\n",
       "      <td>0.997</td>\n",
       "      <td>0.993</td>\n",
       "      <td>1.000</td>\n",
       "      <td>0.997</td>\n",
       "    </tr>\n",
       "    <tr>\n",
       "      <th>Random Forest</th>\n",
       "      <td>0.996</td>\n",
       "      <td>0.998</td>\n",
       "      <td>0.995</td>\n",
       "      <td>0.997</td>\n",
       "    </tr>\n",
       "    <tr>\n",
       "      <th>Naive Bayes</th>\n",
       "      <td>0.987</td>\n",
       "      <td>0.980</td>\n",
       "      <td>0.993</td>\n",
       "      <td>0.987</td>\n",
       "    </tr>\n",
       "    <tr>\n",
       "      <th>Redes Neuronales</th>\n",
       "      <td>0.944</td>\n",
       "      <td>0.999</td>\n",
       "      <td>0.900</td>\n",
       "      <td>0.950</td>\n",
       "    </tr>\n",
       "  </tbody>\n",
       "</table>\n",
       "</div>"
      ],
      "text/plain": [
       "                   Accuracy  Sensibilidad  Especificidad    AUC\n",
       "Arbol de decisión     0.997         0.993          1.000  0.997\n",
       "Random Forest         0.996         0.998          0.995  0.997\n",
       "Naive Bayes           0.987         0.980          0.993  0.987\n",
       "Redes Neuronales      0.944         0.999          0.900  0.950"
      ]
     },
     "execution_count": 122,
     "metadata": {},
     "output_type": "execute_result"
    }
   ],
   "source": [
    "resumen_train = pd.DataFrame(\n",
    "    np.array([accuracy_train, sensibilidad_train, especificidad_train, auc_train]).T,\n",
    "    index = modelo,\n",
    "    columns=[\"Accuracy\", \"Sensibilidad\", \"Especificidad\", \"AUC\"],\n",
    ")\n",
    "resumen_train.head()"
   ]
  },
  {
   "cell_type": "code",
   "execution_count": 123,
   "metadata": {
    "execution": {
     "iopub.execute_input": "2021-09-23T05:08:02.653618Z",
     "iopub.status.busy": "2021-09-23T05:08:02.653618Z",
     "iopub.status.idle": "2021-09-23T05:08:02.667611Z",
     "shell.execute_reply": "2021-09-23T05:08:02.667611Z",
     "shell.execute_reply.started": "2021-09-23T05:08:02.653618Z"
    },
    "tags": []
   },
   "outputs": [
    {
     "data": {
      "text/plain": [
       "Accuracy         Arbol de decisión\n",
       "Sensibilidad      Redes Neuronales\n",
       "Especificidad    Arbol de decisión\n",
       "AUC              Arbol de decisión\n",
       "dtype: object"
      ]
     },
     "execution_count": 123,
     "metadata": {},
     "output_type": "execute_result"
    }
   ],
   "source": [
    "resumen_train.idxmax(axis = 0)"
   ]
  },
  {
   "cell_type": "code",
   "execution_count": 124,
   "metadata": {
    "execution": {
     "iopub.execute_input": "2021-09-23T05:08:02.669610Z",
     "iopub.status.busy": "2021-09-23T05:08:02.668609Z",
     "iopub.status.idle": "2021-09-23T05:08:02.683600Z",
     "shell.execute_reply": "2021-09-23T05:08:02.683600Z",
     "shell.execute_reply.started": "2021-09-23T05:08:02.668609Z"
    },
    "tags": []
   },
   "outputs": [],
   "source": [
    "resumen_train[\"Type\"] = \"Train\""
   ]
  },
  {
   "cell_type": "code",
   "execution_count": 125,
   "metadata": {
    "execution": {
     "iopub.execute_input": "2021-09-23T05:08:02.685600Z",
     "iopub.status.busy": "2021-09-23T05:08:02.684600Z",
     "iopub.status.idle": "2021-09-23T05:08:02.699591Z",
     "shell.execute_reply": "2021-09-23T05:08:02.699591Z",
     "shell.execute_reply.started": "2021-09-23T05:08:02.685600Z"
    },
    "tags": []
   },
   "outputs": [
    {
     "data": {
      "text/html": [
       "<div>\n",
       "<style scoped>\n",
       "    .dataframe tbody tr th:only-of-type {\n",
       "        vertical-align: middle;\n",
       "    }\n",
       "\n",
       "    .dataframe tbody tr th {\n",
       "        vertical-align: top;\n",
       "    }\n",
       "\n",
       "    .dataframe thead th {\n",
       "        text-align: right;\n",
       "    }\n",
       "</style>\n",
       "<table border=\"1\" class=\"dataframe\">\n",
       "  <thead>\n",
       "    <tr style=\"text-align: right;\">\n",
       "      <th></th>\n",
       "      <th>Accuracy</th>\n",
       "      <th>Sensibilidad</th>\n",
       "      <th>Especificidad</th>\n",
       "      <th>AUC</th>\n",
       "    </tr>\n",
       "  </thead>\n",
       "  <tbody>\n",
       "    <tr>\n",
       "      <th>Arbol de decisión</th>\n",
       "      <td>0.143</td>\n",
       "      <td>0.992</td>\n",
       "      <td>0.141</td>\n",
       "      <td>0.567</td>\n",
       "    </tr>\n",
       "    <tr>\n",
       "      <th>Random Forest</th>\n",
       "      <td>0.114</td>\n",
       "      <td>0.996</td>\n",
       "      <td>0.113</td>\n",
       "      <td>0.555</td>\n",
       "    </tr>\n",
       "    <tr>\n",
       "      <th>Naive Bayes</th>\n",
       "      <td>0.120</td>\n",
       "      <td>0.982</td>\n",
       "      <td>0.119</td>\n",
       "      <td>0.551</td>\n",
       "    </tr>\n",
       "    <tr>\n",
       "      <th>Redes Neuronales</th>\n",
       "      <td>0.143</td>\n",
       "      <td>0.999</td>\n",
       "      <td>0.142</td>\n",
       "      <td>0.570</td>\n",
       "    </tr>\n",
       "  </tbody>\n",
       "</table>\n",
       "</div>"
      ],
      "text/plain": [
       "                   Accuracy  Sensibilidad  Especificidad    AUC\n",
       "Arbol de decisión     0.143         0.992          0.141  0.567\n",
       "Random Forest         0.114         0.996          0.113  0.555\n",
       "Naive Bayes           0.120         0.982          0.119  0.551\n",
       "Redes Neuronales      0.143         0.999          0.142  0.570"
      ]
     },
     "execution_count": 125,
     "metadata": {},
     "output_type": "execute_result"
    }
   ],
   "source": [
    "resumen_test = pd.DataFrame(\n",
    "    np.array([accuracy_test, sensibilidad_test, especificidad_test, auc_test]).T,\n",
    "    index = modelo,\n",
    "    columns=[\"Accuracy\", \"Sensibilidad\", \"Especificidad\", \"AUC\"],\n",
    ")\n",
    "resumen_test.head()"
   ]
  },
  {
   "cell_type": "code",
   "execution_count": 126,
   "metadata": {
    "execution": {
     "iopub.execute_input": "2021-09-23T05:08:02.701590Z",
     "iopub.status.busy": "2021-09-23T05:08:02.701590Z",
     "iopub.status.idle": "2021-09-23T05:08:02.716579Z",
     "shell.execute_reply": "2021-09-23T05:08:02.715581Z",
     "shell.execute_reply.started": "2021-09-23T05:08:02.701590Z"
    },
    "tags": []
   },
   "outputs": [
    {
     "data": {
      "text/plain": [
       "Accuracy         Arbol de decisión\n",
       "Sensibilidad      Redes Neuronales\n",
       "Especificidad     Redes Neuronales\n",
       "AUC               Redes Neuronales\n",
       "dtype: object"
      ]
     },
     "execution_count": 126,
     "metadata": {},
     "output_type": "execute_result"
    }
   ],
   "source": [
    "resumen_test.idxmax(axis = 0)"
   ]
  },
  {
   "cell_type": "code",
   "execution_count": 127,
   "metadata": {
    "execution": {
     "iopub.execute_input": "2021-09-23T05:08:02.717579Z",
     "iopub.status.busy": "2021-09-23T05:08:02.717579Z",
     "iopub.status.idle": "2021-09-23T05:08:02.731570Z",
     "shell.execute_reply": "2021-09-23T05:08:02.731570Z",
     "shell.execute_reply.started": "2021-09-23T05:08:02.717579Z"
    },
    "tags": []
   },
   "outputs": [],
   "source": [
    "resumen_test[\"Type\"] = \"Test\""
   ]
  },
  {
   "cell_type": "code",
   "execution_count": 128,
   "metadata": {
    "execution": {
     "iopub.execute_input": "2021-09-23T05:08:02.733569Z",
     "iopub.status.busy": "2021-09-23T05:08:02.733569Z",
     "iopub.status.idle": "2021-09-23T05:08:02.763551Z",
     "shell.execute_reply": "2021-09-23T05:08:02.763551Z",
     "shell.execute_reply.started": "2021-09-23T05:08:02.733569Z"
    },
    "tags": []
   },
   "outputs": [],
   "source": [
    "resumen = pd.concat([resumen_train, resumen_test])"
   ]
  },
  {
   "cell_type": "code",
   "execution_count": 129,
   "metadata": {
    "execution": {
     "iopub.execute_input": "2021-09-23T05:08:02.765550Z",
     "iopub.status.busy": "2021-09-23T05:08:02.764550Z",
     "iopub.status.idle": "2021-09-23T05:08:02.796530Z",
     "shell.execute_reply": "2021-09-23T05:08:02.795532Z",
     "shell.execute_reply.started": "2021-09-23T05:08:02.765550Z"
    },
    "tags": []
   },
   "outputs": [
    {
     "data": {
      "text/html": [
       "<div>\n",
       "<style scoped>\n",
       "    .dataframe tbody tr th:only-of-type {\n",
       "        vertical-align: middle;\n",
       "    }\n",
       "\n",
       "    .dataframe tbody tr th {\n",
       "        vertical-align: top;\n",
       "    }\n",
       "\n",
       "    .dataframe thead th {\n",
       "        text-align: right;\n",
       "    }\n",
       "</style>\n",
       "<table border=\"1\" class=\"dataframe\">\n",
       "  <thead>\n",
       "    <tr style=\"text-align: right;\">\n",
       "      <th></th>\n",
       "      <th>Accuracy</th>\n",
       "      <th>Sensibilidad</th>\n",
       "      <th>Especificidad</th>\n",
       "      <th>AUC</th>\n",
       "      <th>Type</th>\n",
       "    </tr>\n",
       "  </thead>\n",
       "  <tbody>\n",
       "    <tr>\n",
       "      <th>Arbol de decisión</th>\n",
       "      <td>0.997</td>\n",
       "      <td>0.993</td>\n",
       "      <td>1.000</td>\n",
       "      <td>0.997</td>\n",
       "      <td>Train</td>\n",
       "    </tr>\n",
       "    <tr>\n",
       "      <th>Arbol de decisión</th>\n",
       "      <td>0.143</td>\n",
       "      <td>0.992</td>\n",
       "      <td>0.141</td>\n",
       "      <td>0.567</td>\n",
       "      <td>Test</td>\n",
       "    </tr>\n",
       "    <tr>\n",
       "      <th>Naive Bayes</th>\n",
       "      <td>0.987</td>\n",
       "      <td>0.980</td>\n",
       "      <td>0.993</td>\n",
       "      <td>0.987</td>\n",
       "      <td>Train</td>\n",
       "    </tr>\n",
       "    <tr>\n",
       "      <th>Naive Bayes</th>\n",
       "      <td>0.120</td>\n",
       "      <td>0.982</td>\n",
       "      <td>0.119</td>\n",
       "      <td>0.551</td>\n",
       "      <td>Test</td>\n",
       "    </tr>\n",
       "    <tr>\n",
       "      <th>Random Forest</th>\n",
       "      <td>0.996</td>\n",
       "      <td>0.998</td>\n",
       "      <td>0.995</td>\n",
       "      <td>0.997</td>\n",
       "      <td>Train</td>\n",
       "    </tr>\n",
       "    <tr>\n",
       "      <th>Random Forest</th>\n",
       "      <td>0.114</td>\n",
       "      <td>0.996</td>\n",
       "      <td>0.113</td>\n",
       "      <td>0.555</td>\n",
       "      <td>Test</td>\n",
       "    </tr>\n",
       "    <tr>\n",
       "      <th>Redes Neuronales</th>\n",
       "      <td>0.944</td>\n",
       "      <td>0.999</td>\n",
       "      <td>0.900</td>\n",
       "      <td>0.950</td>\n",
       "      <td>Train</td>\n",
       "    </tr>\n",
       "    <tr>\n",
       "      <th>Redes Neuronales</th>\n",
       "      <td>0.143</td>\n",
       "      <td>0.999</td>\n",
       "      <td>0.142</td>\n",
       "      <td>0.570</td>\n",
       "      <td>Test</td>\n",
       "    </tr>\n",
       "  </tbody>\n",
       "</table>\n",
       "</div>"
      ],
      "text/plain": [
       "                   Accuracy  Sensibilidad  Especificidad    AUC   Type\n",
       "Arbol de decisión     0.997         0.993          1.000  0.997  Train\n",
       "Arbol de decisión     0.143         0.992          0.141  0.567   Test\n",
       "Naive Bayes           0.987         0.980          0.993  0.987  Train\n",
       "Naive Bayes           0.120         0.982          0.119  0.551   Test\n",
       "Random Forest         0.996         0.998          0.995  0.997  Train\n",
       "Random Forest         0.114         0.996          0.113  0.555   Test\n",
       "Redes Neuronales      0.944         0.999          0.900  0.950  Train\n",
       "Redes Neuronales      0.143         0.999          0.142  0.570   Test"
      ]
     },
     "execution_count": 129,
     "metadata": {},
     "output_type": "execute_result"
    }
   ],
   "source": [
    "resumen.sort_index()"
   ]
  },
  {
   "cell_type": "markdown",
   "metadata": {
    "tags": []
   },
   "source": [
    "#### **8. Desplegar el modelo haciendo uso de H2O mediante Dash.**"
   ]
  },
  {
   "cell_type": "code",
   "execution_count": 130,
   "metadata": {
    "execution": {
     "iopub.execute_input": "2021-09-23T05:08:02.797530Z",
     "iopub.status.busy": "2021-09-23T05:08:02.797530Z",
     "iopub.status.idle": "2021-09-23T05:08:02.811521Z",
     "shell.execute_reply": "2021-09-23T05:08:02.810522Z",
     "shell.execute_reply.started": "2021-09-23T05:08:02.797530Z"
    },
    "tags": []
   },
   "outputs": [
    {
     "data": {
      "text/plain": [
       "['ModeloRN.joblib']"
      ]
     },
     "execution_count": 130,
     "metadata": {},
     "output_type": "execute_result"
    }
   ],
   "source": [
    "dump(neuronal,'ModeloRN.joblib')"
   ]
  },
  {
   "cell_type": "code",
   "execution_count": 131,
   "metadata": {
    "execution": {
     "iopub.execute_input": "2021-09-23T05:08:02.812521Z",
     "iopub.status.busy": "2021-09-23T05:08:02.812521Z",
     "iopub.status.idle": "2021-09-23T05:08:02.842502Z",
     "shell.execute_reply": "2021-09-23T05:08:02.842502Z",
     "shell.execute_reply.started": "2021-09-23T05:08:02.812521Z"
    },
    "tags": []
   },
   "outputs": [
    {
     "name": "stdout",
     "output_type": "stream",
     "text": [
      "Overwriting app.py\n"
     ]
    }
   ],
   "source": [
    "%%writefile app.py\n",
    "import os\n",
    "\n",
    "import dash\n",
    "import dash_bootstrap_components as dbc\n",
    "import dash_core_components as dcc\n",
    "import dash_html_components as html\n",
    "import pandas as pd\n",
    "from dash.dependencies import Input, Output, State\n",
    "from joblib import load\n",
    "\n",
    "app = dash.Dash(__name__, external_stylesheets=[dbc.themes.BOOTSTRAP])\n",
    "\n",
    "server = app.server\n",
    "\n",
    "controls = dbc.Card(\n",
    "    [\n",
    "        dbc.FormGroup(\n",
    "            [\n",
    "                dbc.Label(\"amount\"),\n",
    "                dbc.Input(\n",
    "                    id=\"input-amount\", type=\"number\", placeholder=\"Entrar Amount\"\n",
    "                ),\n",
    "            ]\n",
    "        ),\n",
    "        dbc.FormGroup(\n",
    "            [\n",
    "                dbc.Label(\"oldbalanceOrg\"),\n",
    "                dbc.Input(\n",
    "                    id=\"input-oldbO\",\n",
    "                    type=\"number\",\n",
    "                    placeholder=\"Entrar Old Balance Orig\",\n",
    "                ),\n",
    "            ]\n",
    "        ),\n",
    "        dbc.FormGroup(\n",
    "            [\n",
    "                dbc.Label(\"newbalanceOrig\"),\n",
    "                dbc.Input(\n",
    "                    id=\"input-newbO\",\n",
    "                    type=\"number\",\n",
    "                    placeholder=\"Entrar New Balance Orig \",\n",
    "                ),\n",
    "            ]\n",
    "        ),\n",
    "        dbc.FormGroup(\n",
    "            [\n",
    "                dbc.Label(\"oldbalanceDest\"),\n",
    "                dbc.Input(\n",
    "                    id=\"input-oldbD\",\n",
    "                    type=\"number\",\n",
    "                    placeholder=\"Entrar Old Balance Dest\",\n",
    "                ),\n",
    "            ]\n",
    "        ),\n",
    "        dbc.FormGroup(\n",
    "            [\n",
    "                dbc.Label(\"newbalanceDest\"),\n",
    "                dbc.Input(\n",
    "                    id=\"input-newbD\",\n",
    "                    type=\"number\",\n",
    "                    placeholder=\"Entrar New Balance Dest\",\n",
    "                ),\n",
    "            ]\n",
    "        ),\n",
    "        dbc.FormGroup(\n",
    "            [dbc.Button(\"Predecir\", color=\"primary\", id=\"submit-button\", n_clicks=0),]\n",
    "        ),\n",
    "        dbc.FormGroup(\n",
    "            [\n",
    "                # dbc.Alert(\"Rellene todos los datos\", color=\"primary\",id='display-value3'),\n",
    "                html.Div(id=\"display-value3\"),\n",
    "            ]\n",
    "        ),\n",
    "    ],\n",
    "    body=True,\n",
    ")\n",
    "\n",
    "\n",
    "app.layout = dbc.Container(\n",
    "    [\n",
    "        html.H1(\"Modelo Predictivo de Transacciones Fraudulentas\"),\n",
    "        html.Hr(),\n",
    "        dbc.Row([dbc.Col(controls, md=4),], align=\"center\",),\n",
    "    ],\n",
    "    fluid=True,\n",
    ")\n",
    "\n",
    "\n",
    "@app.callback(\n",
    "    Output(\"display-value3\", \"children\"),  # el \"display-value3\" es el id\n",
    "    [Input(\"submit-button\", \"n_clicks\")],  # el \"display-value3\" es el id\n",
    "    [\n",
    "        State(\"input-amount\", \"value\"),  # el \"input-preg\" es el id\n",
    "        State(\"input-oldbO\", \"value\"),  # el \"input-glu\" es el id\n",
    "        State(\"input-newbO\", \"value\"),  # el \"input-blood\" es el id\n",
    "        State(\"input-oldbD\", \"value\"),  # el \"input-skin\" es el id\n",
    "        State(\"input-newbD\", \"value\"),  # el \"input-insul\" es el id\n",
    "    ],\n",
    ")\n",
    "def display_value(\n",
    "    n_clicks, value_amount, value_oldbO, value_newbO, value_oldbD, value_newbD\n",
    "):\n",
    "\n",
    "    if n_clicks != 0:\n",
    "        clf = load(\"ModeloRN.joblib\")  # Cargamos el modelo\n",
    "\n",
    "        d = {\n",
    "            \"amount\": [value_amount],\n",
    "            \"oldbalanceOrg\": [value_oldbO],\n",
    "            \"newbalanceOrig\": [value_newbO],\n",
    "            \"oldbalanceDest\": [value_oldbD],\n",
    "            \"newbalanceDest\": [value_newbD],\n",
    "        }\n",
    "        df = pd.DataFrame(data=d)\n",
    "        probabilidad = clf.predict_proba(df)[0]\n",
    "\n",
    "        if probabilidad[0] < 0.5:\n",
    "            salida = \"Transaccion fraudulenta\"\n",
    "            probabilidad2 = probabilidad[1]\n",
    "        else:\n",
    "            probabilidad2 = probabilidad[0]\n",
    "            salida = \"No hay transaccion fraudulenta\"\n",
    "\n",
    "        return (\n",
    "            \"La predicción fue de clase '\"\n",
    "            + salida\n",
    "            + \"' con una probabilidad de \"\n",
    "            + str(round(float(probabilidad2), 2))\n",
    "        )\n",
    "\n",
    "    else:\n",
    "        return \"Rellene todos los datos por favor\"\n",
    "\n",
    "\n",
    "if __name__ == \"__main__\":\n",
    "    app.run_server(debug=True)\n"
   ]
  }
 ],
 "metadata": {
  "kernelspec": {
   "display_name": "Python 3 (ipykernel)",
   "language": "python",
   "name": "python3"
  },
  "language_info": {
   "codemirror_mode": {
    "name": "ipython",
    "version": 3
   },
   "file_extension": ".py",
   "mimetype": "text/x-python",
   "name": "python",
   "nbconvert_exporter": "python",
   "pygments_lexer": "ipython3",
   "version": "3.7.11"
  }
 },
 "nbformat": 4,
 "nbformat_minor": 4
}
